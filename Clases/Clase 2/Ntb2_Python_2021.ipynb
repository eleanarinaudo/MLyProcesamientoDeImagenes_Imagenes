{
  "cells": [
    {
      "cell_type": "markdown",
      "metadata": {
        "id": "6CGWSp8PvNBa"
      },
      "source": [
        "# <center> Curso Machine Learning e Imágenes en Python\n",
        "    \n",
        "* Docentes:  Dra. Valeria S. Rulloni - Dra. Ana Carolina Maldonado\n",
        "* Colaboradores: Ing. Axel Aguerreberry -  Ing. Sebastián Palacio - Ing. Juan Manuel López\n",
        "\n",
        "\n",
        "## Temario a desarrollar:\n",
        "*\t**Uso y herramientas básicas de Python**\n",
        "*\tImágenes digitales: tipos (binarias, monocromáticas y a color)\n",
        "*\tHistograma. Mejora de la imagen: contraste, filtros: suavizado y detección de bordes.\n",
        "*\tUmbralado y Binarización. Operaciones Morfológicas: erosión, dilatación, cierre y apertura.\n",
        "*\tAplicaciones\n",
        "*\tClasificación de imágenes.\n",
        "*\tAprendizaje automático\n",
        "*\tAprendizaje profundo: Redes neuronales\n",
        "*\tAplicaciones \n",
        "\n",
        "\n",
        "**Recomendación:**\n",
        "+ Antes que nada **realice una copia de este archivo y trabaje en ella** (File-> Make a Copy, puede cambiarle el nombre fácilmente). Guárdelo en la misma carpeta de preferencia (si está en Colaboratory lo guarda por defecto en la carpeta Colaboratory del drive, se puede reubicar).\n"
      ]
    },
    {
      "cell_type": "markdown",
      "metadata": {
        "id": "Ex9kCb0EvNBc"
      },
      "source": [
        "**CLASE 2:**  \n",
        "**Vectores y Librerías: Numpy y matplotlib** (con Jupyter Notebook o en Colaboratory):\n",
        "\n",
        "## Inicio y consideraciones\n",
        "+ Este archivo y todos los de extensión .ipynb se abren con Jupyter Notebook (de Anaconda) o Google Colaboratory y se dividen en bloques.\n",
        "+ Básicamente: bloques de texto (Markdown) y otros de código (Code, en Python). \n",
        "+ Cualquier bloque se ejecuta con shift+enter o utilizando el botón Run.\n",
        "+ Los bloques se pueden eliminar con el menú Edit. O con los botones correspondientes (cortar, copiar, pegar, desplazar).\n",
        "\n",
        "**En los bloques de texto (Markdown)** :\n",
        "\n",
        "* Mediante un doble clic en el bloque, posibilito la modificación del mismo.\n",
        "* Para títulos se usa # y luego del símbolo # se debe dejar un espacio.\n",
        "* Con varios ## se manejan los subtítulos por niveles y, con esto, el tamaño de la letra.\n",
        "* Encerrando un texto entre uno o dos asteriscos se consigue texto en cursiva o negrita.\n",
        "\n",
        "**En los bloques de código (Code)** :\n",
        "* Si el renglón  empieza con # es comentario, si no, es instrucción.\n",
        "* En una línea de instrucción, se pueda agregar al final un comentario luego de #.\n",
        "\n",
        "\n",
        "**shift+enter** para ejecutar cada celda/bloque/Cell (o botón Run), tanto en bloque de textos como de códigos\n",
        "\n"
      ]
    },
    {
      "cell_type": "markdown",
      "metadata": {
        "id": "lm98E21gvNFF"
      },
      "source": [
        "# Librerías\n",
        "**Qué es una librería?**\n",
        "** Librerías\n",
        "** En informática, una biblioteca o, llamada por vicio del lenguaje librería (del inglés library) es un **conjunto de** implementaciones **funciones**, codificadas en un lenguaje de programación, que realizan una serie de tareas específicas y se incluyen o importan en el programa evitando tener que reescribir esos códigos."
      ]
    },
    {
      "cell_type": "markdown",
      "metadata": {
        "id": "U7D0HdZ6vNFH"
      },
      "source": [
        "## Librería numpy"
      ]
    },
    {
      "cell_type": "markdown",
      "metadata": {
        "id": "A4HfGXVyvNFJ"
      },
      "source": [
        "### Observaciones:\n",
        "Los tipos de datos predefinidos en Python no precisan el agregado de librerías\n",
        "Otros tipos de datos precisan la importación de librerías específicas. \n",
        "Una de las librerías más importantes para nosotros es numpy.\n",
        "\n",
        "* Librería **numpy**: sirve para realizar operaciones matriciales en Python. \n",
        "* La forma de \"llamar\", \"cargar\" o importar una libreria xxxxxx es la siguiente: \n",
        "* import xxxxxx as xx \n",
        "* donde xx es el nombre corto que le asignamos para poder llamar sus funciones, por ejemplo:\n"
      ]
    },
    {
      "cell_type": "code",
      "execution_count": 1,
      "metadata": {
        "id": "-BGqRa2zvNFL"
      },
      "outputs": [],
      "source": [
        "import numpy as np #shift+entr para ejecutar (o botón Run)\n",
        "#No es necesario asignarle un nombre corto, pero es útil"
      ]
    },
    {
      "cell_type": "markdown",
      "metadata": {
        "id": "XVyQWL49vNFR"
      },
      "source": [
        "### Vectores :  1D-array\n",
        "Ejemplo:\n",
        "Diferenciar lista de vector.\n",
        "\n",
        "Sea el vector  $v = (25, 8, 20, 75)$ \n",
        "\n",
        "Mostrar el vector, su tipo, la longitud de v, máximo y mínimo valor de v\n"
      ]
    },
    {
      "cell_type": "code",
      "execution_count": 2,
      "metadata": {
        "colab": {
          "base_uri": "https://localhost:8080/"
        },
        "id": "J9qXoCrUvNFR",
        "outputId": "e7ef8fa3-c66d-4248-a3f0-48c4bddaac27"
      },
      "outputs": [
        {
          "output_type": "stream",
          "name": "stdout",
          "text": [
            "[25.0, 8.0, 20.0, 75.0]\n",
            "<class 'list'>\n",
            "\n",
            "$v=$ [25.  8. 20. 75.]\n",
            "tipo de v: <class 'numpy.ndarray'>\n",
            "longitud de v: 4\n",
            "máximo de v: 75.0 o 75.0\n",
            "mínimo de v: 8.0\n",
            "8.0\n"
          ]
        }
      ],
      "source": [
        "import numpy as np\n",
        "ve = [25., 8., 20., 75.] \n",
        "print(ve)\n",
        "print(type(ve))\n",
        "print()\n",
        "\n",
        "v=np.array(ve) #Transformo la lista en vector\n",
        "print(\"$v=$\", v) #El vector no lleva comas separando los elementos\n",
        "print(\"tipo de v:\", type(v)) #el tipo es numpy.ndarray\n",
        "print(\"longitud de v:\", len(v))\n",
        "\n",
        "# máximo y mínimo valor de v\n",
        "print(\"máximo de v:\", v.max(), \"o\",np.max(v)) #función de numpy.ndarray: np.max()\n",
        "\n",
        "print(\"mínimo de v:\", v.min())\n",
        "#También\n",
        "print(np.min(v))"
      ]
    },
    {
      "cell_type": "code",
      "execution_count": 3,
      "metadata": {
        "colab": {
          "base_uri": "https://localhost:8080/"
        },
        "id": "epB-2cgbvNFY",
        "outputId": "84ebfb6d-0acb-45fd-8def-ba4bb7907354"
      },
      "outputs": [
        {
          "output_type": "stream",
          "name": "stdout",
          "text": [
            "vector u [ 5  9 10 -1]\n",
            "vector v [-2  0  5  4]\n",
            "vector suma= [ 3  9 15  3]\n",
            "2*vector suma= [ 6 18 30  6]\n",
            "Restamos 3 a cada elemento del vector anterior [ 3 15 27  3]\n"
          ]
        }
      ],
      "source": [
        "import numpy as np\n",
        "u=np.array([5, 9,  10, -1]) #Transforma la lista en vector\n",
        "\n",
        "v=np.array([-2, 0, 5, 4])\n",
        "\n",
        "print(\"vector u\", u)\n",
        "print(\"vector v\",v)\n",
        "\n",
        "z=u+v \n",
        "print(\"vector suma=\",z)\n",
        "\n",
        "w=2*z\n",
        "print(\"2*vector suma=\",w)\n",
        "\n",
        "t = w-3\n",
        "print(\"Restamos 3 a cada elemento del vector anterior\",t)\n"
      ]
    },
    {
      "cell_type": "markdown",
      "metadata": {
        "id": "7kt3MnmzvNFf"
      },
      "source": [
        "**Ejercicio 7:**\n",
        "\n",
        "Defina el vector u=$[5, 9, 10, -1]$\n",
        "\n",
        "Defina el vector v=$[-2, 0, 5, 4]$\n",
        "\n",
        "Muestre ambos vectores\n",
        "\n",
        "Calcule y muestre z=u+v\n",
        "\n",
        "Calcule y muestre el vector doble del vector z\n",
        "\n",
        "Calcule y muestre el vector que resulta de restar 3 unidades a cada elemento del vector anterior"
      ]
    },
    {
      "cell_type": "code",
      "execution_count": 4,
      "metadata": {
        "colab": {
          "base_uri": "https://localhost:8080/"
        },
        "id": "YfhbmA3FvNFg",
        "outputId": "57af753d-3cfc-4c60-fb31-08fd6bfdb7e0"
      },
      "outputs": [
        {
          "output_type": "stream",
          "name": "stdout",
          "text": [
            "El vector u: [ 5  9 10 -1]\n",
            "El vector v: [-2  0  5  4]\n",
            "La suma de los vectores u y v son:  [ 3  9 15  3]\n",
            "El doble del vector z es:  [  9  81 225   9]\n",
            "El vector v con 3 unidades menos:  9\n"
          ]
        }
      ],
      "source": [
        "u=np.array([5,9,10,-1])\n",
        "v=np.array([-2,0,5,4])\n",
        "print(\"El vector u:\", u)\n",
        "print(\"El vector v:\", v)\n",
        "z=u+v\n",
        "print(\"La suma de los vectores u y v son: \", z)\n",
        "print(\"El doble del vector z es: \", z**2 )\n",
        "print(\"El vector v con 3 unidades menos: \", z[-3])"
      ]
    },
    {
      "cell_type": "markdown",
      "metadata": {
        "id": "9o02knVlvNFl"
      },
      "source": [
        "**Facilidades de numpy. Las explicaremos usando el alias np**\n",
        "\n",
        "Definir un vector de n ceros. Función np.zeros(n)\n",
        "\n",
        "Definir un vector de n unos. Función np.ones(n)\n",
        "\n",
        "Definir un vector de n elementos, todos iguales a uno dado m. Función np.full(n,m)\n",
        "\n",
        "Definir un vector que empiece con a, el paso sea c y no supere el b. Función np.arange(a,b,c)\n"
      ]
    },
    {
      "cell_type": "code",
      "execution_count": 5,
      "metadata": {
        "colab": {
          "base_uri": "https://localhost:8080/"
        },
        "id": "BEtrHNrovNFm",
        "outputId": "719b7524-2d42-4099-ec64-c63982decf7b"
      },
      "outputs": [
        {
          "output_type": "stream",
          "name": "stdout",
          "text": [
            "x= [0. 0. 0. 0.] u= [1. 1. 1. 1.] t= [7 7 7 7]\n",
            "\n"
          ]
        }
      ],
      "source": [
        "import numpy as np\n",
        "\n",
        "x=np.zeros(4)\n",
        "u=np.ones(4)\n",
        "t=np.full(4,7)\n",
        "print(\"x=\",x,\"u=\",u,\"t=\",t)\n",
        "print()\n"
      ]
    },
    {
      "cell_type": "markdown",
      "metadata": {
        "id": "7MC-Hva9vNFr"
      },
      "source": [
        "**Tres casos de la función arange, según la cantidad de parámetros: 1, 2 o 3.**\n",
        "\n",
        "- con 1 parámetro: empieza en 0, paso=1\n",
        "- con 2 parámetros (inicio, final), supone paso=1\n",
        "- con 3 parámetros (inicio, final, paso), fija el paso.\n",
        "    * final no pertenece al conjunto\n"
      ]
    },
    {
      "cell_type": "code",
      "execution_count": 6,
      "metadata": {
        "colab": {
          "base_uri": "https://localhost:8080/"
        },
        "id": "X24J_vdBvNFs",
        "outputId": "cf4a5e5e-4e83-4e2e-d033-7fff8875e7f4"
      },
      "outputs": [
        {
          "output_type": "stream",
          "name": "stdout",
          "text": [
            "[ 5  8 11 14 17 20 23] <class 'numpy.ndarray'> <class 'numpy.int64'>\n"
          ]
        }
      ],
      "source": [
        "s = np.arange(5,26,3)\n",
        "print(s,type(s),type(s[0]))"
      ]
    },
    {
      "cell_type": "code",
      "execution_count": 7,
      "metadata": {
        "colab": {
          "base_uri": "https://localhost:8080/"
        },
        "id": "t-hLXjQmEy2X",
        "outputId": "8dbaae1a-2501-40f7-a5bc-9806c536c4c2"
      },
      "outputs": [
        {
          "output_type": "stream",
          "name": "stdout",
          "text": [
            "bool <class 'numpy.ndarray'>\n"
          ]
        }
      ],
      "source": [
        "comparacion=(s==s)\n",
        "print(comparacion.dtype, type(comparacion))"
      ]
    },
    {
      "cell_type": "markdown",
      "metadata": {
        "id": "el1TNVhZvNFx"
      },
      "source": [
        "**Cambio del tipo de dato:**"
      ]
    },
    {
      "cell_type": "code",
      "execution_count": 8,
      "metadata": {
        "colab": {
          "base_uri": "https://localhost:8080/"
        },
        "id": "AKE7jRZ7vNFy",
        "outputId": "41790f3c-2f5a-4cc5-84d0-be55456e44ef"
      },
      "outputs": [
        {
          "output_type": "stream",
          "name": "stdout",
          "text": [
            "[ 5.  8. 11. 14. 17. 20. 23.] <class 'numpy.ndarray'> <class 'numpy.float32'>\n"
          ]
        }
      ],
      "source": [
        "t = s.astype(np.float32)#cambiamos el tipo de datos al vector s a float32\n",
        "print(t,type(t), type(t[0]))\n"
      ]
    },
    {
      "cell_type": "code",
      "execution_count": 9,
      "metadata": {
        "colab": {
          "base_uri": "https://localhost:8080/"
        },
        "id": "udCUVgp5FWW_",
        "outputId": "95449317-ea37-4e3a-a045-ec26313cb498"
      },
      "outputs": [
        {
          "output_type": "stream",
          "name": "stdout",
          "text": [
            "int64 float32\n"
          ]
        }
      ],
      "source": [
        "print(s.dtype, t.dtype)"
      ]
    },
    {
      "cell_type": "markdown",
      "metadata": {
        "id": "i4rcpkoXvNF2"
      },
      "source": [
        "**Acceso a algunos elementos del vector:**"
      ]
    },
    {
      "cell_type": "code",
      "execution_count": 10,
      "metadata": {
        "colab": {
          "base_uri": "https://localhost:8080/"
        },
        "id": "7X_uLhb3vNF3",
        "outputId": "2075bd9d-63f7-4b0d-e809-bf64b68e960a"
      },
      "outputs": [
        {
          "output_type": "stream",
          "name": "stdout",
          "text": [
            "Los 3 primeros elementos de t son:\n",
            "[ 5.  8. 11.]\n",
            "Vector con los lugares pares de t:\n",
            "[ 8. 14. 20.]\n"
          ]
        }
      ],
      "source": [
        "print('Los 3 primeros elementos de t son:')\n",
        "r = t[0:3]#muestra 3 primeros elementos. Siempre el intervalo es abierto a derecha.\n",
        "print(r)\n",
        "\n",
        "print('Vector con los lugares pares de t:')\n",
        "p = t[[1,3,5]] #recordemos que el indexado empieza en 0, lugar 1 es el segundo\n",
        "print(p)"
      ]
    },
    {
      "cell_type": "code",
      "execution_count": 11,
      "metadata": {
        "colab": {
          "base_uri": "https://localhost:8080/"
        },
        "id": "XxyequtwH7St",
        "outputId": "69bf4251-1c44-4219-85f0-eee730cce69c"
      },
      "outputs": [
        {
          "output_type": "stream",
          "name": "stdout",
          "text": [
            "[ 5 11 17 23]\n"
          ]
        }
      ],
      "source": [
        "i = s[[0,2,4,6,]]\n",
        "print(i)"
      ]
    },
    {
      "cell_type": "code",
      "execution_count": 12,
      "metadata": {
        "colab": {
          "base_uri": "https://localhost:8080/"
        },
        "id": "S8_UrkUZIqev",
        "outputId": "3d986b75-4f3e-41d5-a2cd-2da736f2cccc"
      },
      "outputs": [
        {
          "output_type": "stream",
          "name": "stdout",
          "text": [
            "[ 5 11 17 23]\n"
          ]
        }
      ],
      "source": [
        "i=s[0::2]\n",
        "print(i)"
      ]
    },
    {
      "cell_type": "markdown",
      "metadata": {
        "id": "6SoEBNzlvNF-"
      },
      "source": [
        "texto en cursiva\n",
        "**función linspace:  np.linspace(inicio, final, cantidad de puntos).** \n"
      ]
    },
    {
      "cell_type": "code",
      "execution_count": 13,
      "metadata": {
        "colab": {
          "base_uri": "https://localhost:8080/"
        },
        "id": "No_jfq_fvNF_",
        "outputId": "674959e5-594b-41dd-f835-c54d2291b28f"
      },
      "outputs": [
        {
          "output_type": "stream",
          "name": "stdout",
          "text": [
            "[0.   0.25 0.5  0.75 1.  ]\n"
          ]
        }
      ],
      "source": [
        "#Ejemplo: que empiece en 0 termine en 1 y tenga 5 valores. np.linspace(0,1,5)\n",
        "\n",
        "linea = np.linspace(0,1,5)\n",
        "print(linea)\n",
        "#print()\n"
      ]
    },
    {
      "cell_type": "code",
      "execution_count": 13,
      "metadata": {
        "id": "YMZV2HnAJPeF"
      },
      "outputs": [],
      "source": [
        ""
      ]
    },
    {
      "cell_type": "code",
      "execution_count": 14,
      "metadata": {
        "colab": {
          "base_uri": "https://localhost:8080/"
        },
        "id": "GBBE2eVHJRKA",
        "outputId": "bab0e165-fc0b-4ce2-dacc-0dc27eaeb6d8"
      },
      "outputs": [
        {
          "output_type": "stream",
          "name": "stdout",
          "text": [
            "[0.         0.02040816 0.04081633 0.06122449 0.08163265 0.10204082\n",
            " 0.12244898 0.14285714 0.16326531 0.18367347 0.20408163 0.2244898\n",
            " 0.24489796 0.26530612 0.28571429 0.30612245 0.32653061 0.34693878\n",
            " 0.36734694 0.3877551  0.40816327 0.42857143 0.44897959 0.46938776\n",
            " 0.48979592 0.51020408 0.53061224 0.55102041 0.57142857 0.59183673\n",
            " 0.6122449  0.63265306 0.65306122 0.67346939 0.69387755 0.71428571\n",
            " 0.73469388 0.75510204 0.7755102  0.79591837 0.81632653 0.83673469\n",
            " 0.85714286 0.87755102 0.89795918 0.91836735 0.93877551 0.95918367\n",
            " 0.97959184 1.        ]\n",
            "50\n"
          ]
        }
      ],
      "source": [
        "#Ejemplo: que empiece en 0 termine en 1 y tenga 5 valores. np.linspace(0,1,5)\n",
        "\n",
        "linea = np.linspace(0,1, endpoint=True)\n",
        "print(linea)\n",
        "print(len(linea))\n"
      ]
    },
    {
      "cell_type": "markdown",
      "metadata": {
        "id": "UvyOZrYfvNGC"
      },
      "source": [
        "\n",
        "**Arreglo numpy a partir de listas** \n",
        "* np.array\n",
        "* range vs np.arange \n"
      ]
    },
    {
      "cell_type": "code",
      "execution_count": 15,
      "metadata": {
        "colab": {
          "base_uri": "https://localhost:8080/"
        },
        "id": "n6qAUSjuvNGD",
        "outputId": "9f88578e-0b6b-4b93-f9b7-8537b2c36ccc"
      },
      "outputs": [
        {
          "output_type": "stream",
          "name": "stdout",
          "text": [
            "Tipo con range(n):  <class 'range'>\n",
            "Convierto la lista con np.array(l): \n",
            "<class 'numpy.ndarray'>\n",
            "Tipo con np.array(range(n))\n",
            "<class 'numpy.ndarray'>\n",
            "Tipo con np.arange(4)\n",
            "<class 'numpy.ndarray'>\n",
            "Dos formas de generar el vector [0 1 2 3] np.array(range(4)) y np.arange(4)\n",
            "[0 1 2 3] es igual que [0 1 2 3]\n"
          ]
        }
      ],
      "source": [
        "#Generar un vector. \n",
        "#Puede ser a partir de una lista con np.array(lista)\n",
        "#Así como range(n) genera lista, al que puedo convertir en vector con  np.(range(n))\n",
        "# np.arange(n) genera directamente el vector\n",
        "\n",
        "r=range(4) #Es lista\n",
        "print(\"Tipo con range(n): \",type(r))\n",
        "\n",
        "rr=np.array(r) #Genera vector a partir de lista con la librería numpy\n",
        "print(\"Convierto la lista con np.array(l): \")\n",
        "print(type(rr))\n",
        "\n",
        "print(\"Tipo con np.array(range(n))\")\n",
        "print(type(np.array(range(4))))\n",
        "#print()\n",
        "\n",
        "print(\"Tipo con np.arange(4)\")\n",
        "print(type(np.arange(4)))\n",
        "#print()\n",
        "\n",
        "print(\"Dos formas de generar el vector [0 1 2 3] np.array(range(4)) y np.arange(4)\")\n",
        "print(np.array(range(4)), \"es igual que\", np.arange(4))\n"
      ]
    },
    {
      "cell_type": "markdown",
      "metadata": {
        "id": "vJIeAgpqvNGN"
      },
      "source": [
        "\n",
        "**Ejercicio**\n",
        "\n",
        "Defina y muestre un vector s que empiece en 2, su paso sea igual a 3 y no supere el 21\n",
        "\n",
        "Muestre el sexto y el último lugar de s\n",
        "\n",
        "Genere un vector r desde el segundo elemento al 5\n",
        "\n",
        "Muestre el vector de los cuadrados de cada elemento\n",
        "\n",
        "Muestre el vector de cada elemento del anterior elevado a un exponente igual a dicho elemento\n"
      ]
    },
    {
      "cell_type": "code",
      "execution_count": 16,
      "metadata": {
        "colab": {
          "base_uri": "https://localhost:8080/"
        },
        "id": "_c0HYaVTvNGO",
        "outputId": "a8d9fa21-3a64-40e9-9956-420b4396bd38"
      },
      "outputs": [
        {
          "output_type": "stream",
          "name": "stdout",
          "text": [
            "Sexto lugar: 20\n",
            "Ultimo lugar: 20\n",
            "El cuadrado del vector r: [ 4  9 16]\n",
            "Eleve el vector r a un exponente igual a dicho elemento: [  4  27 256]\n"
          ]
        }
      ],
      "source": [
        "s=np.arange(2,21,3)\n",
        "print(\"Sexto lugar:\", s[6])\n",
        "print(\"Ultimo lugar:\", s[-1])\n",
        "r=np.arange(2,5)\n",
        "print(\"El cuadrado del vector r:\", r**2)\n",
        "print(\"Eleve el vector r a un exponente igual a dicho elemento:\", r**(np.arange(2,5)))"
      ]
    },
    {
      "cell_type": "code",
      "execution_count": 17,
      "metadata": {
        "colab": {
          "base_uri": "https://localhost:8080/"
        },
        "id": "FGL-ifT-vNGV",
        "outputId": "48e3a945-42ec-4b19-8093-1ef6d790eceb"
      },
      "outputs": [
        {
          "output_type": "stream",
          "name": "stdout",
          "text": [
            "[ 2  5  8 11 14 17 20]\n",
            "El máximo es\n",
            "20\n",
            "\n",
            "elemento posición 6\n",
            "17\n",
            "\n",
            "Vector recortado segundo a cuarto elemento [ 5  8 11]\n",
            "\n",
            "El último elemento del vector recortado es 11\n",
            "El ultimo elemento del vector recortado es 11\n",
            "\n",
            "Los cuadrados del vector recortado son: [ 25  64 121]\n",
            "\n"
          ]
        }
      ],
      "source": [
        "import numpy as np\n",
        "\n",
        "s=np.arange(2,21,3)\n",
        "\n",
        "print(s)\n",
        "\n",
        "print(\"El máximo es\")    \n",
        "print(max(s))\n",
        "print()\n",
        "\n",
        "print(\"elemento posición 6\")\n",
        "print(s[5])\n",
        "print()\n",
        "\n",
        "r=s[1:4]\n",
        "print(\"Vector recortado segundo a cuarto elemento\",r)\n",
        "print()\n",
        "\n",
        "print(\"El último elemento del vector recortado es\",r[len(r)-1])\n",
        "print(\"El ultimo elemento del vector recortado es\", r[-1])\n",
        "print()\n",
        "\n",
        "print(\"Los cuadrados del vector recortado son:\", r*r)\n",
        "print()\n",
        "\n",
        "#Cambio el tipo de dato del vector recortado a float32\n",
        "t=r.astype(np.float32)\n"
      ]
    },
    {
      "cell_type": "code",
      "execution_count": 18,
      "metadata": {
        "colab": {
          "base_uri": "https://localhost:8080/"
        },
        "id": "Toc4pOdTp1m1",
        "outputId": "a699da8b-782b-4ed4-e947-76a04d374500"
      },
      "outputs": [
        {
          "output_type": "stream",
          "name": "stdout",
          "text": [
            "[0.         0.33333333 0.66666667 1.         1.33333333 1.66666667\n",
            " 2.         2.33333333 2.66666667 3.         3.33333333 3.66666667\n",
            " 4.         4.33333333 4.66666667 5.        ]\n"
          ]
        }
      ],
      "source": [
        "#np.linspace(a,b,n) #vector numpy con n valores equiespaciados de 'a' a 'b' (inclusive)\n",
        "vec=np.linspace(0,5,16)\n",
        "print(vec)"
      ]
    },
    {
      "cell_type": "markdown",
      "metadata": {
        "id": "uxTHbeXivNGd"
      },
      "source": [
        "## Librería matplotlib - Gráficos"
      ]
    },
    {
      "cell_type": "markdown",
      "metadata": {
        "id": "vAMHVzv9vNGe"
      },
      "source": [
        "ver: [Matplotlib](https://matplotlib.org/)\n",
        "\n",
        "**Tabla Símbolo- Color**\n",
        "\n",
        "“b”\tAzul\n",
        "\n",
        "“g”\tVerde\n",
        "\n",
        "“r”\tRojo, etc.\n",
        "\n",
        "**Símbolo-\tDescripción**\n",
        "\n",
        "“-“\tLínea continua\n",
        "\n",
        "“–”\tLínea a trazos\n",
        "\n",
        "“-.”\tLínea a puntos y rayas\n",
        "\n",
        "“o”\tSímbolo círculo relleno\n",
        "\n",
        "“v”\tSímbolo triángulo hacia abajo\n",
        "\n",
        "“*”\tSímbolo estrella, etc.\n",
        "\n",
        "ver: [Pyplot de Matplotlib - plt](https://matplotlib.org/stable/tutorials/introductory/pyplot.html)"
      ]
    },
    {
      "cell_type": "code",
      "execution_count": 19,
      "metadata": {
        "colab": {
          "base_uri": "https://localhost:8080/",
          "height": 265
        },
        "id": "t4U8QBuXvNGf",
        "outputId": "b4b05252-438f-419c-ee58-4429f393275f"
      },
      "outputs": [
        {
          "output_type": "display_data",
          "data": {
            "image/png": "[encoded data removed]",
            "text/plain": [
              "<Figure size 432x288 with 1 Axes>"
            ]
          },
          "metadata": {
            "needs_background": "light"
          }
        }
      ],
      "source": [
        "import matplotlib.pyplot as plt\n",
        "import numpy as np\n",
        "n=21\n",
        "x=np.linspace(0,2,n) #del 0 al 2 (inclusive), en n=21 números equiespaciados\n",
        "x2=x*x\n",
        "x3=x**3\n",
        "plt.plot(x, x,'b.', x, x2,'rd', x, x3,'g^')\n",
        "\n",
        "plt.show()\n"
      ]
    },
    {
      "cell_type": "code",
      "execution_count": 20,
      "metadata": {
        "colab": {
          "base_uri": "https://localhost:8080/",
          "height": 265
        },
        "id": "fCK9do0ZvNGl",
        "outputId": "4aa3589d-4cb4-480a-d846-1840f155015d"
      },
      "outputs": [
        {
          "output_type": "display_data",
          "data": {
            "image/png": "[encoded data removed]",
            "text/plain": [
              "<Figure size 432x288 with 1 Axes>"
            ]
          },
          "metadata": {
            "needs_background": "light"
          }
        }
      ],
      "source": [
        "#Se puede cambiar el intervalo horizontal con xlim\n",
        "#Se puede cambiar el intervalo vertical con ylim\n",
        "\n",
        "plt.xlim(0.5,1.5)     # nuevos límites para el eje OX\n",
        "\n",
        "plt.plot(x, x,'b.',x, x2,'rd',x, x3,'g^')\n",
        "plt.gca().legend(('Lineal','Cuadrática','Cúbica'))\n",
        "\n",
        "plt.show()\n"
      ]
    },
    {
      "cell_type": "markdown",
      "metadata": {
        "id": "9txecceSvNGp"
      },
      "source": [
        "**Ejercicio 9:**\n",
        "\n",
        "a) Defina el vector m=$(1,2,...,12)$\n",
        "\n",
        "b) Defina un vector g de longitud 12 que sean los consumos mensuales de gas de su vivienda\n",
        "\n",
        "c) Defina un vector l de longitud 12 que sean los consumos mensuales de luz de su vivienda\n",
        "\n",
        "d) calcule el vector de gastos mensuales por servicios, el máximo gasto mensual y el gasto de luz del segundo trimestre.\n",
        "\n",
        "e) Graficar los gastos de gas, luz y los de gastos por servicios según los meses (m, en el eje x) \n"
      ]
    },
    {
      "cell_type": "code",
      "execution_count": 21,
      "metadata": {
        "colab": {
          "base_uri": "https://localhost:8080/",
          "height": 282
        },
        "id": "HkQAmKrTvNGq",
        "outputId": "e4be9665-de4a-4b5a-dba3-6f6cc2c73186"
      },
      "outputs": [
        {
          "output_type": "stream",
          "name": "stdout",
          "text": [
            "[ 900 1000 1200]\n"
          ]
        },
        {
          "output_type": "display_data",
          "data": {
            "image/png": "[encoded data removed]",
            "text/plain": [
              "<Figure size 432x288 with 1 Axes>"
            ]
          },
          "metadata": {
            "needs_background": "light"
          }
        }
      ],
      "source": [
        "#complete esta celda para realizar el ejercicio anterior\n",
        "\n",
        "import matplotlib.pyplot as plt\n",
        "import numpy as np\n",
        "\n",
        "m=np.arange(1,13)\n",
        "g=np.array([3000,1200,1300,1200,1500,1400,1220,1440,2000,2100,2200,2200])\n",
        "l=np.array([500, 400, 300, 900, 1000, 1200, 900, 700, 900, 500, 980, 678])\n",
        "s=g+l\n",
        "print(l[3:6])\n",
        "\n",
        "# plt.xlim(left=5)     # nuevos límites para el eje x\n",
        "plt.ylim(5, 3200)\n",
        "plt.plot(m, g ,'b.', m, l , 'rd', m , s ,'g^')\n",
        "plt.gca().legend(('gas','luz','servicios'))\n",
        "\n",
        "plt.show()"
      ]
    },
    {
      "cell_type": "code",
      "execution_count": 22,
      "metadata": {
        "colab": {
          "base_uri": "https://localhost:8080/",
          "height": 265
        },
        "id": "6nn-Q9hVd6FD",
        "outputId": "f1f22713-3600-49bb-970e-57ef7376ed56"
      },
      "outputs": [
        {
          "output_type": "display_data",
          "data": {
            "image/png": "[encoded data removed]",
            "text/plain": [
              "<Figure size 432x288 with 1 Axes>"
            ]
          },
          "metadata": {
            "needs_background": "light"
          }
        }
      ],
      "source": [
        "#complete esta celda para realizar el ejercicio anterior\n",
        "import matplotlib.pyplot as plt\n",
        "import numpy as np\n",
        "\n",
        "m=np.linspace(1,12,12)\n",
        "g=np.linspace(1,12,12)+2\n",
        "l=np.linspace(1,12,12)\n",
        "s=g+l\n",
        "#print(np.max( ))\n",
        "#print(l[])\n",
        "\n",
        "#plt.xlim(5,10)     # nuevos límites para el eje x\n",
        "\n",
        "plt.plot(m, g,'b.',m, l ,'rd', m , s ,'g^')\n",
        "plt.gca().legend(('gas','luz','servicios'))\n",
        "\n",
        "plt.show()"
      ]
    },
    {
      "cell_type": "code",
      "execution_count": 23,
      "metadata": {
        "colab": {
          "base_uri": "https://localhost:8080/",
          "height": 761
        },
        "id": "3nwXw6DrvNGv",
        "outputId": "bf42e8f3-c2d5-4eae-a372-5ae3c9933de8"
      },
      "outputs": [
        {
          "output_type": "display_data",
          "data": {
            "image/png": "[encoded data removed]",
            "text/plain": [
              "<Figure size 432x288 with 1 Axes>"
            ]
          },
          "metadata": {
            "needs_background": "light"
          }
        },
        {
          "output_type": "display_data",
          "data": {
            "image/png": "[encoded data removed]",
            "text/plain": [
              "<Figure size 432x288 with 1 Axes>"
            ]
          },
          "metadata": {
            "needs_background": "light"
          }
        },
        {
          "output_type": "display_data",
          "data": {
            "image/png": "[encoded data removed]",
            "text/plain": [
              "<Figure size 432x288 with 1 Axes>"
            ]
          },
          "metadata": {
            "needs_background": "light"
          }
        }
      ],
      "source": [
        "import matplotlib.pyplot as plt\n",
        "# Gráficos múltiples\n",
        "\n",
        "plt.plot(m,g)\n",
        "plt.show()\n",
        "plt.plot(m,l,'g--d')# en color verde con guiones y punto diamante\n",
        "plt.show()\n",
        "plt.scatter(m,s)# puntos\n",
        "plt.show()\n"
      ]
    },
    {
      "cell_type": "markdown",
      "metadata": {
        "id": "Uov926Gsd6FN"
      },
      "source": [
        "### Subplots con matplotlib"
      ]
    },
    {
      "cell_type": "code",
      "execution_count": 24,
      "metadata": {
        "colab": {
          "base_uri": "https://localhost:8080/",
          "height": 404
        },
        "id": "463Nz_5EvNGz",
        "outputId": "a4c95533-f64a-44f0-ce6c-3eb19f229550"
      },
      "outputs": [
        {
          "output_type": "display_data",
          "data": {
            "image/png": "[encoded data removed]",
            "text/plain": [
              "<Figure size 720x432 with 4 Axes>"
            ]
          },
          "metadata": {
            "needs_background": "light"
          }
        }
      ],
      "source": [
        "import numpy as np\n",
        "import matplotlib.pyplot as plt\n",
        "\n",
        "#Para varios gráficos es útil usar la función subplots y luego axs\n",
        "fig, axs = plt.subplots(nrows=2, ncols=2, sharex=True)#Otra variable usada es f\n",
        "#f, axs = plt.subplots(2,2,figsize=(12,15))#ancho,altura\n",
        "fig.set_figwidth(10)\n",
        "fig.set_figheight(6)\n",
        "\n",
        "axs[0,0].plot(m,g)\n",
        "axs[0,0].set_title('gas')\n",
        "axs[0,0].set_xlabel('x')\n",
        "axs[0,0].set_ylabel('y')\n",
        "\n",
        "axs[0,1].plot(m,l)\n",
        "axs[0,1].set_title('luz')\n",
        "axs[0,1].set_xlabel('eje x: meses')\n",
        "axs[0,1].set_ylabel('eje y: luz')\n",
        "\n",
        "\n",
        "axs[1,0].plot(m,s)\n",
        "axs[1,0].set_title('vector suma')\n",
        "axs[1,0].set_xlabel('eje x')\n",
        "axs[1,0].set_ylabel('eje y')\n",
        "\n",
        "axs[1,1],plt.scatter(m,s)\n",
        "axs[1,1].set_title('vector suma')\n",
        "axs[1,1].set_xlabel('eje x')\n",
        "axs[1,1].set_ylabel('eje y')\n",
        "\n",
        "plt.show()"
      ]
    },
    {
      "cell_type": "code",
      "execution_count": 25,
      "metadata": {
        "colab": {
          "base_uri": "https://localhost:8080/",
          "height": 228
        },
        "id": "WqO_V3aNvNG2",
        "outputId": "ed28dd03-9113-48ce-e08e-382466f6db2c"
      },
      "outputs": [
        {
          "output_type": "stream",
          "name": "stdout",
          "text": [
            "[ 2  6 10 14 18 22 26]\n"
          ]
        },
        {
          "output_type": "display_data",
          "data": {
            "image/png": "[encoded data removed]",
            "text/plain": [
              "<Figure size 720x216 with 2 Axes>"
            ]
          },
          "metadata": {
            "needs_background": "light"
          }
        }
      ],
      "source": [
        "import numpy as np\n",
        "import matplotlib.pyplot as plt\n",
        "\n",
        "v=range(2,27,4)\n",
        "v=np.array(v)\n",
        "print(v)\n",
        "w=np.linspace(0.0,1.0,256)\n",
        "\n",
        "fig, axs = plt.subplots(nrows=1, ncols=2, sharex=True)\n",
        "fig.set_figwidth(10)\n",
        "fig.set_figheight(3)\n",
        "\n",
        "axs[0].scatter(range(7),v) #En el eje horizontal es range(7) porque tiene que coincidir la cantidad \n",
        "#de elementos\n",
        "axs[1].plot(w)\n",
        "plt.show()#Observar valores ejes horizontal y vertical\n"
      ]
    },
    {
      "cell_type": "code",
      "execution_count": 26,
      "metadata": {
        "colab": {
          "base_uri": "https://localhost:8080/",
          "height": 211
        },
        "id": "oacH-grhvNG6",
        "outputId": "4832b2b4-4cde-4619-c687-941a383cda26"
      },
      "outputs": [
        {
          "output_type": "display_data",
          "data": {
            "image/png": "[encoded data removed]",
            "text/plain": [
              "<Figure size 720x216 with 2 Axes>"
            ]
          },
          "metadata": {
            "needs_background": "light"
          }
        }
      ],
      "source": [
        "#Otra forma de mostrar múltiples gráficos\n",
        "\n",
        "import matplotlib.pyplot as plt\n",
        "import numpy as np\n",
        "\n",
        "x = np.linspace(0,4,1000)\n",
        "\n",
        "f = plt.figure(figsize=(10,3))\n",
        "\n",
        "ax = f.add_subplot(121)\n",
        "ax2 = f.add_subplot(122)\n",
        "\n",
        "ax.plot(x, np.sin(x))\n",
        "ax2.plot(x, np.cos(x), 'r:')\n",
        "\n",
        "plt.show()"
      ]
    },
    {
      "cell_type": "markdown",
      "metadata": {
        "id": "lxcnZjk0vNG_"
      },
      "source": [
        "### Arrays-Arreglos multidimensionales\n",
        "**Consideraremos primero bidimensionales-Matrices**"
      ]
    },
    {
      "cell_type": "code",
      "execution_count": 27,
      "metadata": {
        "colab": {
          "base_uri": "https://localhost:8080/"
        },
        "id": "4rBTuhpJvNHA",
        "outputId": "54acc5d3-80a2-47ef-c8d3-2ce4ffd078ae"
      },
      "outputs": [
        {
          "output_type": "stream",
          "name": "stdout",
          "text": [
            "[[0. 0.]\n",
            " [0. 0.]]\n",
            "[[1. 1.]]\n",
            "[[7 7]\n",
            " [7 7]]\n",
            "[[1. 0.]\n",
            " [0. 1.]]\n",
            "[[0.59356552 0.8393797 ]\n",
            " [0.33305177 0.9531663 ]]\n",
            "[[2 4 0 3 1]\n",
            " [1 4 1 3 3]\n",
            " [0 0 2 0 4]\n",
            " [2 1 2 3 4]\n",
            " [2 1 0 4 4]]\n"
          ]
        }
      ],
      "source": [
        "import numpy as np\n",
        "\n",
        "a = np.zeros((2,2))   # Bidimensional 2x2\n",
        "print(a)              # Muestra \"[[ 0.  0.]\n",
        "                      #          [ 0.  0.]]\"\n",
        "\n",
        "b = np.ones((1,2))    # Bidimensional: 1x2\n",
        "print(b)              # Muestra \"[[ 1.  1.]]\"\n",
        "\n",
        "c = np.full((2,2), 7)  # Un array de elementos iguales\n",
        "print(c)               # Muestra \"[[ 7.  7.]\n",
        "                       #          [ 7.  7.]]\"\n",
        "\n",
        "d = np.eye(2)         # Crea la matriz identidad 2x2\n",
        "print(d)              # Muestra \"[[ 1.  0.]\n",
        "                      #          [ 0.  1.]]\"\n",
        "\n",
        "e = np.random.random((2,2))  # Crea un array 2x2 de elementos aleatorios\n",
        "print(e)                     # por ejemplo \"[[ 0.91940167  0.08143941]\n",
        "                             #               [ 0.68744134  0.87236687]]\"\n",
        "\n",
        "# La función np.random.* tiene variantes (*)\n",
        "# numpy.random.random(size)¶\n",
        "# Return random floats in the half-open interval [0.0, 1.0).\n",
        "\n",
        "print(np.random.randint(5,size=(5, 5)))\n"
      ]
    },
    {
      "cell_type": "code",
      "execution_count": 28,
      "metadata": {
        "colab": {
          "base_uri": "https://localhost:8080/"
        },
        "id": "7ts8ETnTvNHD",
        "outputId": "131db09d-0520-4312-dc38-2232cd998560"
      },
      "outputs": [
        {
          "output_type": "stream",
          "name": "stdout",
          "text": [
            "La dimensión de la matriz es  (3, 4)\n",
            "La cantidad de elementos de la matriz es 12\n",
            "\n",
            "[[ 1  2  3  4]\n",
            " [ 5  6  7  8]\n",
            " [ 9 10 11 12]]\n",
            "\n",
            "[[2 3]\n",
            " [6 7]]\n",
            "\n",
            "2\n",
            "77\n",
            "\n",
            "[[77  3]\n",
            " [ 6  7]]\n",
            "\n",
            "[[ 1 25  3  4]\n",
            " [ 5  6  7  8]\n",
            " [ 9 10 11 12]]\n",
            "[[25  3]\n",
            " [ 6  7]]\n",
            "[1 0 5]\n",
            "[1 9 5]\n"
          ]
        }
      ],
      "source": [
        "import numpy as np\n",
        "\n",
        "# Crear un array 3x4 con los siguientes números\n",
        "# [[ 1  2  3  4]\n",
        "#  [ 5  6  7  8]\n",
        "#  [ 9 10 11 12]]\n",
        "\n",
        "a = np.array([[1,2,3,4], [5,6,7,8], [9,10,11,12]])\n",
        "\n",
        "print(\"La dimensión de la matriz es \",a.shape) # Da la dimensión de a\n",
        "print(\"La cantidad de elementos de la matriz es\",a.size)# Da la cantidad de elementos de a\n",
        "print()\n",
        "# Extraer el subarray que contenga las primeras dos filas y las columnas 2 y 3\n",
        "\n",
        "# [[2 3]\n",
        "#  [6 7]]\n",
        "b = a[:2, 1:3] #siempre los intervalos son abiertos a derecha\n",
        "print(a)\n",
        "print()\n",
        "print(b)\n",
        "print()\n",
        "# Mostrar un dato del array original, primera fila, segunda columna\n",
        "\n",
        "print(a[0, 1])   # Muestra \"2\"\n",
        "\n",
        "b[0, 0] = 77     # b[0, 0] Ojo! este b modifica también el dato correspondiente en a!\n",
        "print(a[0, 1])   # Muestra \"77\"\n",
        "print()\n",
        "print(b)\n",
        "print()\n",
        "\n",
        "#Siempre que obtenemos una submatriz de otra mediante asignación con =\n",
        "#Si modificamos un dato en una modificamos en la otra.\n",
        "a[0,1]=25\n",
        "print(a)\n",
        "print(b)\n",
        "\n",
        "#Para no modificar ambas listas se usa el comando copy.\n",
        "vector_viejo=np.array([1, 0, 5])\n",
        "vector_nuevo=np.copy(vector_viejo)\n",
        "vector_nuevo[1]=9\n",
        "print(vector_viejo)\n",
        "print(vector_nuevo)"
      ]
    },
    {
      "cell_type": "code",
      "execution_count": 29,
      "metadata": {
        "colab": {
          "base_uri": "https://localhost:8080/"
        },
        "id": "gHCXR_IovNHH",
        "outputId": "66468ea7-bc6c-4f54-d135-9305cceb7301"
      },
      "outputs": [
        {
          "output_type": "stream",
          "name": "stdout",
          "text": [
            "[[ 1  2  3  4]\n",
            " [ 5  6  7  8]\n",
            " [ 9 10 11 12]]\n",
            "\n",
            "[5 6 7 8] (4,)\n",
            "\n",
            "[[5 6 7 8]] (1, 4)\n",
            "\n",
            "[ 2  6 10] (3,)\n",
            "[[ 2]\n",
            " [ 6]\n",
            " [10]] (3, 1)\n",
            "8\n",
            "Primer caso de concatenado, axis=1\n",
            " [[ 1  2  3  4  1  2  3  4]\n",
            " [ 5  6  7  8  5  6  7  8]\n",
            " [ 9 10 11 12  9 10 11 12]]\n",
            "\n",
            "Segundo caso de Concatenado, axis=0\n",
            " [[ 1  2  3  4]\n",
            " [ 5  6  7  8]\n",
            " [ 9 10 11 12]\n",
            " [ 1  2  3  4]\n",
            " [ 5  6  7  8]\n",
            " [ 9 10 11 12]]\n"
          ]
        }
      ],
      "source": [
        "import numpy as np\n",
        "\n",
        "# Crear matriz 2-dimensiones (3,4) , 3 filas y 4 columnas\n",
        "# [[ 1  2  3  4]\n",
        "#  [ 5  6  7  8]\n",
        "#  [ 9 10 11 12]]\n",
        "\n",
        "a = np.array([[1,2,3,4], [5,6,7,8], [9,10,11,12]]) #Ingreso como lista y transforma con np.array(l)\n",
        "print(a)\n",
        "print()\n",
        "\n",
        "row_r1 = a[1, :]    # Segunda fila. Todas las columnas\n",
        "row_r2 = a[1:2, :]  # Segunda fila. Todas las columnas\n",
        "\n",
        "\n",
        "print(row_r1, row_r1.shape)  # Muestra \"5 6 7 8] (4,)\"\n",
        "print()\n",
        "print(row_r2, row_r2.shape)  # Muestra \"[[5 6 7 8]] (1, 4)\"\n",
        "print()\n",
        "\n",
        "# Ejemplo de acceso a las columnas\n",
        "col_r1 = a[:, 1]\n",
        "col_r2 = a[:, 1:2]\n",
        "print(col_r1, col_r1.shape)  # Muestra \"[ 2  6 10] (3,)\"\n",
        "print(col_r2, col_r2.shape)  # Muestra \"[[ 2]\n",
        "                             #          [ 6]\n",
        "                             #          [10]] (3, 1)\"\n",
        "#Cuál es la diferencia?\n",
        "\n",
        "#Para mostrar un elemento\n",
        "print(a[1,3])\n",
        "\n",
        "#Concatenado de matrices\n",
        "#help (np.concatenate)\n",
        "DobleAhorizontal=np.concatenate((a,a),axis=1)\n",
        "print(\"Primer caso de concatenado, axis=1\\n\",DobleAhorizontal)\n",
        "\n",
        "DobleAvertical=np.concatenate((a,a),axis=0)\n",
        "print(\"\\nSegundo caso de Concatenado, axis=0\\n\",DobleAvertical)"
      ]
    },
    {
      "cell_type": "code",
      "execution_count": 30,
      "metadata": {
        "colab": {
          "base_uri": "https://localhost:8080/"
        },
        "id": "FfkZaCaqvNHK",
        "outputId": "1b33bdf6-1392-4a69-b7d5-6eb565139f07"
      },
      "outputs": [
        {
          "output_type": "stream",
          "name": "stdout",
          "text": [
            "[[False False]\n",
            " [ True  True]\n",
            " [ True  True]]\n",
            "[3 4 5 6]\n",
            "[3 4 5 6]\n"
          ]
        }
      ],
      "source": [
        "import numpy as np\n",
        "\n",
        "#Detectar los elementos que cumplen una condición en un array\n",
        "\n",
        "a = np.array([[1,2], [3, 4], [5, 6]])\n",
        "\n",
        "bool_idx = (a > 2)   # Encuentra los elementos mayores que 2\n",
        "                     # Devuelve una matriz de la misma dimensión que a con valores booleanos\n",
        "                     \n",
        "print(bool_idx)      # Muestra \"[[False False]\n",
        "                     #          [ True  True]\n",
        "                     #          [ True  True]]\"\n",
        "\n",
        "\n",
        "\n",
        "print(a[bool_idx])  # muestra \"[3 4 5 6]\"\n",
        "\n",
        "#Se puede lograr en una sola sentencia\n",
        "print(a[a > 2])     # Muestra \"[3 4 5 6]\""
      ]
    },
    {
      "cell_type": "code",
      "execution_count": 31,
      "metadata": {
        "colab": {
          "base_uri": "https://localhost:8080/"
        },
        "id": "lRNXP0JqvNHO",
        "outputId": "dbc719c1-5d96-40c6-ceee-5d8fdb8d9850"
      },
      "outputs": [
        {
          "output_type": "stream",
          "name": "stdout",
          "text": [
            "int64\n",
            "float64\n",
            "int64\n"
          ]
        }
      ],
      "source": [
        "import numpy as np\n",
        "\n",
        "x = np.array([1, 2])   # numpy elige el tipo de dato\n",
        "print(x.dtype)         # En este caso \"int64\"\n",
        "\n",
        "x = np.array([1.0, 2.0])   # numpy elige el tipo de dato\n",
        "print(x.dtype)             # en este caso \"float64\"\n",
        "\n",
        "x = np.array([1, 2], dtype=np.int64)   # fuerza el tipo de dato a int64\n",
        "print(x.dtype)                         # muestra \"int64\""
      ]
    },
    {
      "cell_type": "code",
      "execution_count": 32,
      "metadata": {
        "colab": {
          "base_uri": "https://localhost:8080/"
        },
        "id": "pNszL-YRvNHR",
        "outputId": "81567723-6921-4b94-fcda-bb5bddf953ac"
      },
      "outputs": [
        {
          "output_type": "stream",
          "name": "stdout",
          "text": [
            "[[ 6.  8.]\n",
            " [10. 12.]]\n",
            "[[ 6.  8.]\n",
            " [10. 12.]]\n",
            "\n",
            "[[-4. -4.]\n",
            " [-4. -4.]]\n",
            "[[-4. -4.]\n",
            " [-4. -4.]]\n",
            "\n",
            "[[ 5. 12.]\n",
            " [21. 32.]]\n",
            "[[ 5. 12.]\n",
            " [21. 32.]]\n",
            "\n",
            "[[0.2        0.33333333]\n",
            " [0.42857143 0.5       ]]\n",
            "[[0.2        0.33333333]\n",
            " [0.42857143 0.5       ]]\n",
            "\n",
            "[[1.         1.41421356]\n",
            " [1.73205081 2.        ]]\n"
          ]
        }
      ],
      "source": [
        "#Operaciones con matrices en python\n",
        "import numpy as np\n",
        "\n",
        "x = np.array([[1,2],[3,4]], dtype=np.float64)\n",
        "y = np.array([[5,6],[7,8]], dtype=np.float64)\n",
        "\n",
        "# Suma elemento a elemento\n",
        "# [[ 6.0  8.0]\n",
        "#  [10.0 12.0]]\n",
        "\n",
        "print(x + y)\n",
        "print(np.add(x, y))\n",
        "print()\n",
        "\n",
        "# Diferencia elemento a elemento\n",
        "# [[-4.0 -4.0]\n",
        "#  [-4.0 -4.0]]\n",
        "\n",
        "print(x - y)\n",
        "print(np.subtract(x, y))\n",
        "print()\n",
        "\n",
        "# Producto elemento a elemento\n",
        "# [[ 5.0 12.0]\n",
        "#  [21.0 32.0]]\n",
        "print(x * y)\n",
        "print(np.multiply(x, y))\n",
        "print()\n",
        "\n",
        "# División elemento a elemento\n",
        "# [[ 0.2         0.33333333]\n",
        "#  [ 0.42857143  0.5       ]]\n",
        "print(x / y)\n",
        "print(np.divide(x, y))\n",
        "print()\n",
        "\n",
        "# Raíz cuadrada, elemento a elemento\n",
        "# [[ 1.          1.41421356]\n",
        "#  [ 1.73205081  2.        ]]\n",
        "print(np.sqrt(x))\n"
      ]
    },
    {
      "cell_type": "code",
      "execution_count": 33,
      "metadata": {
        "colab": {
          "base_uri": "https://localhost:8080/"
        },
        "id": "UBdb4JjnvNHU",
        "outputId": "614308c7-2111-4216-fe8f-f9cc1b6ac9a8"
      },
      "outputs": [
        {
          "output_type": "stream",
          "name": "stdout",
          "text": [
            "219\n",
            "219\n",
            "219\n",
            "[29 67]\n",
            "[29 67]\n",
            "[[19 22]\n",
            " [43 50]]\n",
            "[[19 22]\n",
            " [43 50]]\n",
            "0\n"
          ]
        }
      ],
      "source": [
        "import numpy as np\n",
        "\n",
        "x = np.array([[1,2],[3,4]])\n",
        "y = np.array([[5,6],[7,8]])\n",
        "\n",
        "v = np.array([9,10])\n",
        "w = np.array([11, 12])\n",
        "\n",
        "# Producto interno de vectores \n",
        "print(v.dot(w))\n",
        "print(np.dot(v, w))\n",
        "print(v@w)\n",
        "\n",
        "# Producto interno de vectores\n",
        "print(x.dot(v))\n",
        "print(np.dot(x, v))\n",
        "\n",
        "# Producto interno de vectores\n",
        "print(x.dot(y))\n",
        "print(np.dot(x, y))\n",
        "\n",
        "v1 = np.array([3, 4])\n",
        "v2 = np.array([4, -3])\n",
        "print(v1 @ v2) #Qué indica el resultado?"
      ]
    },
    {
      "cell_type": "code",
      "execution_count": 34,
      "metadata": {
        "colab": {
          "base_uri": "https://localhost:8080/"
        },
        "id": "LR4Q3YMIvNHY",
        "outputId": "9c37ec87-18a2-4be1-d03a-fd875128c012"
      },
      "outputs": [
        {
          "output_type": "stream",
          "name": "stdout",
          "text": [
            "10\n",
            "[4 6]\n",
            "[3 7]\n"
          ]
        }
      ],
      "source": [
        "import numpy as np\n",
        "\n",
        "x = np.array([[1,2],[3,4]])\n",
        "\n",
        "print(np.sum(x))  # Suma todos los elementos \"10\"\n",
        "print(np.sum(x, axis=0))  # Suma los elementos de las columnas; \"[4 6]\"\n",
        "print(np.sum(x, axis=1))  # Suma los elementos por fila \"[3 7]\""
      ]
    },
    {
      "cell_type": "code",
      "execution_count": 35,
      "metadata": {
        "colab": {
          "base_uri": "https://localhost:8080/"
        },
        "id": "Ka5ZSMN6vNHb",
        "outputId": "b5ddc3ca-8bfb-46fd-dc74-17104efed022"
      },
      "outputs": [
        {
          "output_type": "stream",
          "name": "stdout",
          "text": [
            "[[1 2]\n",
            " [3 4]]\n",
            "[[1 3]\n",
            " [2 4]]\n",
            "[[1 3]\n",
            " [2 4]]\n",
            "\n",
            "[1 2 3]\n",
            "[1 2 3]\n"
          ]
        }
      ],
      "source": [
        "import numpy as np\n",
        "\n",
        "x = np.array([[1,2], [3,4]])\n",
        "print(x)  \n",
        "#Transpuesta\n",
        "print(x.T)  # \"[[1 3]\n",
        "            #  [2 4]]\"\n",
        "# o bien\n",
        "print(np.transpose(x))\n",
        "print()\n",
        "\n",
        "# Pedir la transpuesta de un array de una dimensión no hace nada\n",
        "v = np.array([1,2,3])\n",
        "print(v)    # \"[1 2 3]\"\n",
        "print(v.T)  # \"[1 2 3]\""
      ]
    },
    {
      "cell_type": "code",
      "execution_count": 36,
      "metadata": {
        "colab": {
          "base_uri": "https://localhost:8080/"
        },
        "id": "w5qRCkiCvNHh",
        "outputId": "770e170e-9875-497a-bf7e-cdcb17b4fa75"
      },
      "outputs": [
        {
          "output_type": "stream",
          "name": "stdout",
          "text": [
            "[[1 2]\n",
            " [3 4]]\n",
            "[[1 2 1]\n",
            " [3 4 2]]\n",
            "\n",
            "[[ 7 10  5]\n",
            " [15 22 11]]\n"
          ]
        }
      ],
      "source": [
        "import numpy as np\n",
        "#Producto de matrices\n",
        "\n",
        "x = np.array([[1,2], [3,4]])\n",
        "print(x)  \n",
        "y= np.array(([[1,2,1], [3,4,2]]))\n",
        "print(y)\n",
        "print()\n",
        "\n",
        "v = x@y #producto matricial\n",
        "print(v)  \n",
        "#Si hacemos\n",
        "#w=y@x\n",
        "#print(w)\n",
        "#nos da error y nos explica la causa"
      ]
    },
    {
      "cell_type": "code",
      "execution_count": 37,
      "metadata": {
        "colab": {
          "base_uri": "https://localhost:8080/"
        },
        "id": "zcJn1H4UvNHk",
        "outputId": "ae5bc734-0950-4e49-8b14-befdebadce34"
      },
      "outputs": [
        {
          "output_type": "stream",
          "name": "stdout",
          "text": [
            "10.000000000000002\n",
            "\n",
            "[[ 0.6 -0.7]\n",
            " [-0.2  0.4]]\n",
            "\n",
            "[[4 2]\n",
            " [7 6]]\n"
          ]
        }
      ],
      "source": [
        "import numpy as np\n",
        "#Calculo el determinante\n",
        "A = np.array([[4, 7],\n",
        "              [2, 6]])\n",
        "print(np.linalg.det(A))\n",
        "print()\n",
        "print(np.linalg.inv(A))\n",
        "print()\n",
        "print(np.transpose(A))"
      ]
    },
    {
      "cell_type": "code",
      "execution_count": 38,
      "metadata": {
        "id": "R0kd4sPJvNHn"
      },
      "outputs": [],
      "source": [
        "#https://docs.scipy.org/doc/numpy/reference/"
      ]
    },
    {
      "cell_type": "markdown",
      "metadata": {
        "id": "glI5WEJhvNHq"
      },
      "source": [
        "### Otros ejemplos con arrays\n",
        "Generar lista A de dimensión 5x4.\n",
        "\n",
        "Convertirla en array y mostrarla.\n",
        "\n",
        "Encontrar, guardar en variable y mostrar el máximo.\n",
        "\n",
        "Generar y mostrar la transpuesta y su dimensión."
      ]
    },
    {
      "cell_type": "code",
      "execution_count": 39,
      "metadata": {
        "colab": {
          "base_uri": "https://localhost:8080/"
        },
        "id": "6G_O3DvbvNHr",
        "outputId": "4bb532e2-6000-4181-d78a-5e54cbadee85"
      },
      "outputs": [
        {
          "output_type": "stream",
          "name": "stdout",
          "text": [
            "Lista A: [[1, 2, 3, 4], [9, 10, 11, 12], [5, 6, 7, 8], [1, 1, 2, 2], [2, 3, 3, 4]]\n",
            "tipo:  <class 'list'> largo:  5\n",
            "\n",
            "Matriz Amat a partir de la lista A,\n",
            " Matriz A= [[ 1  2  3  4]\n",
            " [ 9 10 11 12]\n",
            " [ 5  6  7  8]\n",
            " [ 1  1  2  2]\n",
            " [ 2  3  3  4]] \n",
            " Dimensión de la matriz A: (5, 4)\n",
            "<class 'numpy.ndarray'> tamaño: 20 forma: (5, 4)\n",
            "máximo de matriz 12\n",
            "\n",
            "traspuesta de la matriz A=\n",
            "[[ 1  9  5  1  2]\n",
            " [ 2 10  6  1  3]\n",
            " [ 3 11  7  2  3]\n",
            " [ 4 12  8  2  4]]\n",
            "La dimensión de la transpuesta es (4, 5)\n",
            "\n"
          ]
        }
      ],
      "source": [
        "import numpy as np\n",
        "A=[[1, 2, 3, 4], [9, 10, 11, 12],[5, 6, 7, 8],[1,1,2,2],[2,3,3,4]] # Generamos lista\n",
        "print(\"Lista A:\", A)\n",
        "print(\"tipo: \",type(A), \"largo: \",len(A))\n",
        "print()\n",
        "\n",
        "Amat=np.array(A)\n",
        "print(\"Matriz Amat a partir de la lista A,\\n Matriz A=\", Amat, \"\\n Dimensión de la matriz A:\", Amat.shape)\n",
        "print(type(Amat), \"tamaño:\", Amat.size, \"forma:\", Amat.shape)\n",
        "m=Amat.max()\n",
        "print(\"máximo de matriz\",m)\n",
        "print()\n",
        "\n",
        "At=np.transpose(Amat) #transpuesta de la matriz\n",
        "print(\"traspuesta de la matriz A=\")\n",
        "print(At)\n",
        "print(\"La dimensión de la transpuesta es\",At.shape)\n",
        "print()"
      ]
    },
    {
      "cell_type": "markdown",
      "metadata": {
        "id": "oBpPqjVSd6HF"
      },
      "source": [
        "### Más ejemplos\n",
        "\n",
        "Generar una lista B de 12 elementos, 11 numéricos y el último string. Mostrar el tipo.\n",
        "\n",
        "Generar una lista C con los 11 primeros elementos de la anterior. Mostrar el tipo.\n",
        "\n",
        "Generar un vector D con los elementos: 0 1 2 3 4 5 6 7 8 9 10. Utilizar la función de numpy arange().\n",
        "\n",
        "Convertir en vector la lista C. Mostrar tipo."
      ]
    },
    {
      "cell_type": "code",
      "execution_count": 40,
      "metadata": {
        "colab": {
          "base_uri": "https://localhost:8080/"
        },
        "id": "JtG3J6S1vNHx",
        "outputId": "d5b84638-8fd3-4127-f43b-81034d9e21a1"
      },
      "outputs": [
        {
          "output_type": "stream",
          "name": "stdout",
          "text": [
            "Lista B [1, 2, 3, 4, 5, 6, 7, 8, 9, 10, 11, 'hola']\n",
            "<class 'list'>\n",
            "\n",
            "Tomo C como los primeros 11 elementos de la lista B  [1, 2, 3, 4, 5, 6, 7, 8, 9, 10, 11]\n",
            "<class 'list'>\n",
            "\n",
            "Vector np.arange(11) es [ 0  1  2  3  4  5  6  7  8  9 10]\n",
            "<class 'numpy.ndarray'>\n",
            "\n",
            "Lista C convertida en vector [ 1  2  3  4  5  6  7  8  9 10 11]\n",
            "<class 'numpy.ndarray'>\n",
            "<class 'numpy.int64'>\n",
            "int64\n",
            "\n"
          ]
        }
      ],
      "source": [
        "B=[1, 2, 3, 4, 5, 6, 7, 8, 9, 10, 11, \"hola\"]\n",
        "print(\"Lista B\",B) #La lista puede tener elementos de distinto tipo\n",
        "print(type(B))\n",
        "print()\n",
        "\n",
        "C=B[0:11]\n",
        "print(\"Tomo C como los primeros 11 elementos de la lista B \",C)\n",
        "print(type(C))\n",
        "print()\n",
        "\n",
        "D=np.arange(11)\n",
        "print(\"Vector np.arange(11) es\",D) #con np.arange() generamos vectores\n",
        "print(type(D))\n",
        "print()\n",
        "\n",
        "E=np.array(C)\n",
        "print(\"Lista C convertida en vector\", E)\n",
        "print(type(E))\n",
        "print(type(E[0]))\n",
        "print(E.dtype)\n",
        "print()"
      ]
    },
    {
      "cell_type": "markdown",
      "metadata": {
        "id": "IfGy34E4vNH0"
      },
      "source": [
        "Dada A (como matriz), del ejericio anterior:\n",
        "\n",
        "Tomar el elemento de la fila 3 columna 2.\n",
        "\n",
        "Asignarle un nuevo valor."
      ]
    },
    {
      "cell_type": "code",
      "execution_count": 41,
      "metadata": {
        "colab": {
          "base_uri": "https://localhost:8080/"
        },
        "id": "G727xO2YwItj",
        "outputId": "0e418912-7002-4698-dfef-abf04b8f7713"
      },
      "outputs": [
        {
          "output_type": "stream",
          "name": "stdout",
          "text": [
            "[[ 1  2  3  4]\n",
            " [ 9 10 11 12]\n",
            " [ 5  6  7  8]\n",
            " [ 1  1  2  2]\n",
            " [ 2  3  3  4]]\n"
          ]
        }
      ],
      "source": [
        "A=[[1, 2, 3, 4], [9, 10, 11, 12],[5, 6, 7, 8],[1,1,2,2],[2,3,3,4]] # lista\n",
        "Amat = np.array(A) #arreglo 2D, matriz\n",
        "print(Amat)"
      ]
    },
    {
      "cell_type": "code",
      "execution_count": 42,
      "metadata": {
        "colab": {
          "base_uri": "https://localhost:8080/"
        },
        "id": "bu3bI8kCvNH1",
        "outputId": "ed60a88f-85ca-4e38-ffda-b9af890c7356"
      },
      "outputs": [
        {
          "output_type": "stream",
          "name": "stdout",
          "text": [
            "valor de la matriz Amat en el lugar [2,1] es  6\n",
            "[[ 1  2  3  4]\n",
            " [ 9 10 11 12]\n",
            " [ 5 15  7  8]\n",
            " [ 1  1  2  2]\n",
            " [ 2  3  3  4]]\n",
            "el nuevo valor de la matriz Amat en el lugar [2,1] es  15\n"
          ]
        }
      ],
      "source": [
        "#Elemento de una matriz\n",
        "print(\"valor de la matriz Amat en el lugar [2,1] es \", Amat[2,1]) #fila 2(3ra) columna 1 (2da)\n",
        "\n",
        "#cambiar ese valor\n",
        "Amat[2][1]=15\n",
        "print(Amat)\n",
        "print(\"el nuevo valor de la matriz Amat en el lugar [2,1] es \", Amat[2,1]) #fila 2(3ra) columna 1 (2da)\n"
      ]
    },
    {
      "cell_type": "markdown",
      "metadata": {
        "id": "1I7iLC_dd6HT"
      },
      "source": [
        "Generar una matriz con las dos primeras filas de la anterior utilizando el comando range, o corchetes.\n",
        "\n",
        "Generar distintas submatrices."
      ]
    },
    {
      "cell_type": "code",
      "execution_count": 43,
      "metadata": {
        "colab": {
          "base_uri": "https://localhost:8080/"
        },
        "id": "TUSKhayRvNH4",
        "outputId": "9193b31f-44b5-4157-c81d-1a69ff41b56a"
      },
      "outputs": [
        {
          "output_type": "stream",
          "name": "stdout",
          "text": [
            "\n",
            " Submatriz formada por las dos primeras filas separadas con A[range(0,2)]=\n",
            "[[ 1  2  3  4]\n",
            " [ 9 10 11 12]]\n",
            "\n",
            "\n",
            "Submatriz dos primeras filas separadas con A[0:2]=\n",
            "[[ 1  2  3  4]\n",
            " [ 9 10 11 12]] \n",
            "\n",
            "\n",
            "Submatriz primera fila obtenida con A[0:1]= [[1 2 3 4]] \n",
            "\n",
            "\n",
            "Submatriz primera fila obtenida con A[0]= [1 2 3 4] \n",
            "\n",
            "\n",
            "Submatriz formada por las 3 primeras filas y las dos primeras columnas Amat[0:3,0:2]\n",
            "[[ 1  2]\n",
            " [ 9 10]\n",
            " [ 5 15]] \n",
            "\n",
            "Submatriz formada por las Filas segunda y tercera, columnnas segunda y tercera Amat[1:3,1:3]\n",
            "[[10 11]\n",
            " [15  7]] \n",
            "\n",
            "\n",
            " atributo y función size de un arreglo con numpy, dos formas de obtenerlo M.size o np.size(M): 20 20\n"
          ]
        }
      ],
      "source": [
        "# Submatriz \n",
        "print(\"\\n Submatriz formada por las dos primeras filas separadas con A[range(0,2)]=\")\n",
        "print(Amat[range(0,2)]) \n",
        "print()\n",
        "\n",
        "print(\"\\nSubmatriz dos primeras filas separadas con A[0:2]=\")\n",
        "print(Amat[0:2],\"\\n\") #desde fila 0 (inclusive) hasta fila 2 exclusive\n",
        "\n",
        "print(\"\\nSubmatriz primera fila obtenida con A[0:1]=\",Amat[0:1],\"\\n\")\n",
        "\n",
        "print(\"\\nSubmatriz primera fila obtenida con A[0]=\",Amat[0],\"\\n\")\n",
        "\n",
        "print(\"\\nSubmatriz formada por las 3 primeras filas y las dos primeras columnas Amat[0:3,0:2]\")\n",
        "print(Amat[0:3,0:2],\"\\n\")#desde fila y col 0 (inclusive) hasta fila 3 y col 2 exclusive\n",
        "\n",
        "print(\"Submatriz formada por las Filas segunda y tercera, columnnas segunda y tercera Amat[1:3,1:3]\")\n",
        "print(Amat[1:3,1:3],\"\\n\") #desde fila y col 1 (inclusive) hasta fila y col 3 exclusive\n",
        "\n",
        "print(\"\\n atributo y función size de un arreglo con numpy, dos formas de obtenerlo M.size o np.size(M):\",\n",
        "      Amat.size,  np.size(Amat) )"
      ]
    },
    {
      "cell_type": "code",
      "execution_count": 44,
      "metadata": {
        "colab": {
          "base_uri": "https://localhost:8080/"
        },
        "id": "TaFYsgU_vNH7",
        "outputId": "d3a4b203-6a17-439f-d039-3611a8f80aec"
      },
      "outputs": [
        {
          "output_type": "stream",
          "name": "stdout",
          "text": [
            "(5, 4) (4, 5)\n",
            "Matriz=\n",
            "' <class 'numpy.ndarray'>\n",
            "[[ 1  2  3  4]\n",
            " [ 9 10 11 12]\n",
            " [ 5 15  7  8]\n",
            " [ 1  1  2  2]\n",
            " [ 2  3  3  4]]\n",
            "\n",
            "Transpuesta\n",
            " <class 'numpy.ndarray'>\n",
            "[[ 1  9  5  1  2]\n",
            " [ 2 10  6  1  3]\n",
            " [ 3 11  7  2  3]\n",
            " [ 4 12  8  2  4]]\n",
            "\n",
            "Producto matriz por su traspuesta\n",
            "[[ 30 110  70  17  33]\n",
            " [110 446 278  65 129]\n",
            " [ 88 368 228  50 108]\n",
            " [ 17  65  41  10  19]\n",
            " [ 33 129  81  19  38]]\n",
            "\n"
          ]
        }
      ],
      "source": [
        "#Operaciones matriciales- Revisión\n",
        "print(np.shape(Amat),np.shape(At))\n",
        "print(\"Matriz=\\n'\",type(Amat))\n",
        "print(Amat)\n",
        "print()\n",
        "print(\"Transpuesta\\n\",type(At))\n",
        "print(At)\n",
        "print()\n",
        "print(\"Producto matriz por su traspuesta\")\n",
        "print(np.dot(Amat,At))  #\n",
        "print()\n",
        " "
      ]
    },
    {
      "cell_type": "code",
      "execution_count": 45,
      "metadata": {
        "colab": {
          "base_uri": "https://localhost:8080/"
        },
        "id": "P_4ow1QkvoFL",
        "outputId": "caed60e2-a75a-4613-a86f-b59db58484e2"
      },
      "outputs": [
        {
          "output_type": "stream",
          "name": "stdout",
          "text": [
            "Producto matriz punto a punto por sí misma\n",
            "[[  1   4   9  16]\n",
            " [ 81 100 121 144]\n",
            " [ 25 225  49  64]\n",
            " [  1   1   4   4]\n",
            " [  4   9   9  16]]\n",
            "\n",
            "[[  1   4   9  16]\n",
            " [ 81 100 121 144]\n",
            " [ 25 225  49  64]\n",
            " [  1   1   4   4]\n",
            " [  4   9   9  16]]\n",
            "\n",
            "División punto a punto de la matriz por sí misma\n",
            "[[1. 1. 1. 1.]\n",
            " [1. 1. 1. 1.]\n",
            " [1. 1. 1. 1.]\n",
            " [1. 1. 1. 1.]\n",
            " [1. 1. 1. 1.]]\n",
            "\n",
            "Sumo la matriz a sí misma\n",
            "[[ 2  4  6  8]\n",
            " [18 20 22 24]\n",
            " [10 30 14 16]\n",
            " [ 2  2  4  4]\n",
            " [ 4  6  6  8]]\n",
            "\n",
            "Concateno lista\n",
            "[[1, 2, 3, 4], [9, 10, 11, 12], [5, 6, 7, 8], [1, 1, 2, 2], [2, 3, 3, 4], [1, 2, 3, 4], [9, 10, 11, 12], [5, 6, 7, 8], [1, 1, 2, 2], [2, 3, 3, 4]]\n",
            "\n",
            "Convierto la concatenación en arreglo\n",
            "[[ 1  2  3  4]\n",
            " [ 9 10 11 12]\n",
            " [ 5  6  7  8]\n",
            " [ 1  1  2  2]\n",
            " [ 2  3  3  4]\n",
            " [ 1  2  3  4]\n",
            " [ 9 10 11 12]\n",
            " [ 5  6  7  8]\n",
            " [ 1  1  2  2]\n",
            " [ 2  3  3  4]]\n"
          ]
        }
      ],
      "source": [
        "     \n",
        "#Producto lugar a lugar/ punto a punto de arreglos numpy\n",
        "print(\"Producto matriz punto a punto por sí misma\")\n",
        "print(Amat*Amat) \n",
        "print()\n",
        "#Otra forma\n",
        "print(np.multiply(Amat,Amat)) #Producto punto a punto\n",
        "\n",
        "print()\n",
        "print(\"División punto a punto de la matriz por sí misma\")\n",
        "print(Amat/Amat)    #División punto a punto . Cuidado con la división por ceros!!!\n",
        "\n",
        "print()\n",
        "print(\"Sumo la matriz a sí misma\")\n",
        "print(Amat+Amat)     #Suma (lugar a lugar)\n",
        "\n",
        "print()\n",
        "print(\"Concateno lista\")\n",
        "print(A+A)     #Ojo!! concatenación de listas ya que A es lista\n",
        "\n",
        "print()\n",
        "print(\"Convierto la concatenación en arreglo\")\n",
        "print(np.array(A+A)) #concatenación de listas en arreglos!\n",
        "\n"
      ]
    },
    {
      "cell_type": "code",
      "execution_count": 46,
      "metadata": {
        "colab": {
          "base_uri": "https://localhost:8080/"
        },
        "id": "dwKQHN3OvwSI",
        "outputId": "4e3dde5a-bb68-4ae4-dfeb-bfccdfcb6a10"
      },
      "outputs": [
        {
          "output_type": "stream",
          "name": "stdout",
          "text": [
            "\n",
            "División de los elementos por 2\n",
            "[[0.5 1.  1.5 2. ]\n",
            " [4.5 5.  5.5 6. ]\n",
            " [2.5 7.5 3.5 4. ]\n",
            " [0.5 0.5 1.  1. ]\n",
            " [1.  1.5 1.5 2. ]]\n",
            "\n",
            "Sumo 3 punto a punto a la matriz original\n",
            "[[ 4  5  6  7]\n",
            " [12 13 14 15]\n",
            " [ 8 18 10 11]\n",
            " [ 4  4  5  5]\n",
            " [ 5  6  6  7]]\n",
            "\n",
            "Multiplico por 2 todos los elementos de la matriz original\n",
            "[[ 2  4  6  8]\n",
            " [18 20 22 24]\n",
            " [10 30 14 16]\n",
            " [ 2  2  4  4]\n",
            " [ 4  6  6  8]]\n"
          ]
        }
      ],
      "source": [
        "print()\n",
        "print(\"División de los elementos por 2\")\n",
        "print(Amat/2) #División punto a punto\n",
        "print()\n",
        "print(\"Sumo 3 punto a punto a la matriz original\")\n",
        "print(Amat+3) #Suma (lugar a lugar)\n",
        "\n",
        "print()\n",
        "print(\"Multiplico por 2 todos los elementos de la matriz original\")\n",
        "print(2*Amat) #Producto por escalar (lugar a lugar)"
      ]
    },
    {
      "cell_type": "markdown",
      "metadata": {
        "id": "GV2cWZJrvNIA"
      },
      "source": [
        "### Algunas funciones numpy para arreglos - Alias np\n",
        "\n",
        "np.sum();  np.mean();  np.median(); np.max(); np.min(); np.std(); np.array(); np.arange()\n",
        "\n",
        "np.float32(); np.int32(); np.concatenate(); np.unique() #quita los elementos repetidos\n",
        "\n",
        "np.round()\n",
        "\n"
      ]
    },
    {
      "cell_type": "code",
      "execution_count": 46,
      "metadata": {
        "id": "fOqF0oR8vNIB"
      },
      "outputs": [],
      "source": [
        ""
      ]
    },
    {
      "cell_type": "markdown",
      "metadata": {
        "id": "KSZWx0YrvNIE"
      },
      "source": [
        "**Ejercicio**\n",
        "\n",
        "Defina una matriz de unos de dimensión 3x2.\n",
        "\n",
        "Multiplique la primera fila por 3.\n",
        "\n",
        "Multiplique la última fila por 2.\n",
        "\n",
        "Muestre la matriz obtenida y su traspuesta."
      ]
    },
    {
      "cell_type": "code",
      "execution_count": 47,
      "metadata": {
        "colab": {
          "base_uri": "https://localhost:8080/"
        },
        "id": "UaXR6aB4vNIE",
        "outputId": "cd76a49d-3373-4342-8a03-8ae16821c79c"
      },
      "outputs": [
        {
          "output_type": "stream",
          "name": "stdout",
          "text": [
            "[[1. 1.]\n",
            " [1. 1.]\n",
            " [1. 1.]]\n",
            "\n",
            "[[3. 3.]\n",
            " [1. 1.]\n",
            " [2. 2.]]\n"
          ]
        }
      ],
      "source": [
        "import numpy as np\n",
        "A=np.ones((3,2))\n",
        "print(A)\n",
        "print()\n",
        "A[0:1]=3*A[0:1]\n",
        "A[2:]=2*A[2:]\n",
        "print(A)\n"
      ]
    },
    {
      "cell_type": "markdown",
      "metadata": {
        "id": "6ZokfA7LyJFI"
      },
      "source": [
        "**Ejercicio**\n",
        "\n",
        "Defina una matriz de ceros de dimensión 4x3.\n",
        "\n",
        "Reemplace la primera fila por unos.\n",
        "\n",
        "Reemplace la segunda columna por 2's.\n",
        "\n",
        "Muestre la matriz obtenida "
      ]
    },
    {
      "cell_type": "code",
      "execution_count": 48,
      "metadata": {
        "colab": {
          "base_uri": "https://localhost:8080/"
        },
        "id": "I9UdQRDCvNIK",
        "outputId": "5c05157f-06fb-4f47-f836-57134587c229"
      },
      "outputs": [
        {
          "output_type": "stream",
          "name": "stdout",
          "text": [
            "[[0. 0. 0.]\n",
            " [0. 0. 0.]\n",
            " [0. 0. 0.]\n",
            " [0. 0. 0.]]\n",
            "\n",
            "[[1. 2. 1.]\n",
            " [0. 2. 0.]\n",
            " [0. 2. 0.]\n",
            " [0. 2. 0.]]\n"
          ]
        }
      ],
      "source": [
        "import numpy as np\n",
        "B=np.zeros((4,3))\n",
        "print(B)\n",
        "print()\n",
        "B[0:1]= 1\n",
        "B[:, 1]= 2\n",
        "print(B)"
      ]
    },
    {
      "cell_type": "markdown",
      "metadata": {
        "id": "bnL2J27GvNIN"
      },
      "source": [
        "# 4. Programación/estructuras (if, for, while, etc)\n",
        "## 4.1 Estructura de Decisión: if"
      ]
    },
    {
      "cell_type": "markdown",
      "metadata": {
        "id": "_qfezEztvNIO"
      },
      "source": [
        "Su sintaxis es\n",
        "\n",
        "if *condicion* : \n",
        "\n",
        "    cuerpo del if #indentado con 4 espacios\n",
        "    \n",
        "else:\n",
        "    \n",
        "    cuerpo del else #indentado con 4 espacios\n",
        "    \n",
        "\n",
        "--------------------------------------------------------------------------------------------------\n",
        "donde *condicion* tiene que ser un booleano, que si es True se realiza lo que está en el cuerpo del if, si es False, lo que está en el cuerpo de else  \n"
      ]
    },
    {
      "cell_type": "code",
      "execution_count": 49,
      "metadata": {
        "colab": {
          "base_uri": "https://localhost:8080/"
        },
        "id": "TvLBhQL6vNIO",
        "outputId": "f106303f-4ca8-4a2f-9ec7-20d91b43cf28"
      },
      "outputs": [
        {
          "output_type": "stream",
          "name": "stdout",
          "text": [
            "La persona es\n",
            "Mayor\n"
          ]
        }
      ],
      "source": [
        "#Ejemplo\n",
        "edad = 25\n",
        "\n",
        "print(\"La persona es\")\n",
        "if edad < 18:\n",
        "    print(\"Menor\") \n",
        "else:\n",
        "    print(\"Mayor\")\n"
      ]
    },
    {
      "cell_type": "markdown",
      "metadata": {
        "id": "Thz5NzNtvNIR"
      },
      "source": [
        "**Los ifs se pueden anidar**\n",
        "\n",
        "**Los ifs pueden servir a distintas alternativas**\n",
        "\n",
        "**Ejemplo de pseudocódigo con 4 alternativas**\n",
        "\n",
        "\n",
        "if condición_1:\n",
        "\n",
        "    bloque 1\n",
        "\n",
        "elif condición_2:\n",
        "    \n",
        "    bloque 2\n",
        "\n",
        "elif condición_3\n",
        "\n",
        "    bloque 3\n",
        "\n",
        "else:\n",
        "    \n",
        "    bloque 4"
      ]
    },
    {
      "cell_type": "code",
      "execution_count": 50,
      "metadata": {
        "id": "5Rkmi9tQvNIS",
        "colab": {
          "base_uri": "https://localhost:8080/"
        },
        "outputId": "3838c014-550b-43bb-d9f8-714b47d0f5cb"
      },
      "outputs": [
        {
          "output_type": "stream",
          "name": "stdout",
          "text": [
            "Ingrese edad: 34\n",
            "Mayor de edad\n"
          ]
        }
      ],
      "source": [
        "#Ejemplo opciones múltiples\n",
        "\n",
        "edad=int(input(\"Ingrese edad: \"))\n",
        "if edad<0:\n",
        "    print(\"Error\")\n",
        "elif edad<18:\n",
        "    print(\"Menor de edad\")\n",
        "else:\n",
        "    print(\"Mayor de edad\")"
      ]
    },
    {
      "cell_type": "code",
      "execution_count": 51,
      "metadata": {
        "id": "IpluwhKcvNIW",
        "colab": {
          "base_uri": "https://localhost:8080/"
        },
        "outputId": "3760aeee-9e23-4c41-fde4-768ec03b8769"
      },
      "outputs": [
        {
          "output_type": "stream",
          "name": "stdout",
          "text": [
            "Ingrese edad: 3\n",
            "Menor de edad\n"
          ]
        }
      ],
      "source": [
        "#el mismo ejemplo pero usando operadores lógicos\n",
        "edad=int(input(\"Ingrese edad: \"))\n",
        "if edad>=18:\n",
        "    print(\"Mayor de edad\")\n",
        "else:\n",
        "    if edad>=0 and edad<18:\n",
        "        print(\"Menor de edad\")\n",
        "    else: \n",
        "        print(\"Error\")"
      ]
    },
    {
      "cell_type": "markdown",
      "metadata": {
        "id": "AlUHak3WvNIY"
      },
      "source": [
        "### Operadores para comparar:\n",
        "\n",
        "#### == ;    !=  ;   <   ;    >  ;     <=   ;     >="
      ]
    },
    {
      "cell_type": "code",
      "execution_count": 52,
      "metadata": {
        "id": "52JLxLAqvNIZ",
        "colab": {
          "base_uri": "https://localhost:8080/"
        },
        "outputId": "c90dfd05-46d0-4f74-a424-051cf9440030"
      },
      "outputs": [
        {
          "output_type": "stream",
          "name": "stdout",
          "text": [
            "Ingrese nro: 5\n",
            "Ingrese nro: 4\n",
            "\n",
            "Los números ingresados son diferentes\n"
          ]
        }
      ],
      "source": [
        "#Comparaciones\n",
        "nro1=int(input('Ingrese nro: '))\n",
        "nro2=int(input('Ingrese nro: '))\n",
        "if nro1==nro2:\n",
        "    print('\\nLos números ingresados son iguales')\n",
        "else:\n",
        "    print('\\nLos números ingresados son diferentes')"
      ]
    },
    {
      "cell_type": "code",
      "execution_count": 53,
      "metadata": {
        "id": "L-QKYfNYvNIc",
        "colab": {
          "base_uri": "https://localhost:8080/"
        },
        "outputId": "41173d59-8eb9-47f4-ca56-de92c7219837"
      },
      "outputs": [
        {
          "output_type": "stream",
          "name": "stdout",
          "text": [
            "Ingrese nro: 4\n",
            "Ingrese nro: 4\n",
            "\n",
            "Los números ingresados son iguales\n"
          ]
        }
      ],
      "source": [
        "#Comparaciones\n",
        "nro1=int(input('Ingrese nro: '))\n",
        "nro2=int(input('Ingrese nro: '))\n",
        "if nro1!=nro2:\n",
        "    print('\\nLos números ingresados son distintos')\n",
        "else:\n",
        "    print('\\nLos números ingresados son iguales')"
      ]
    },
    {
      "cell_type": "code",
      "execution_count": 54,
      "metadata": {
        "id": "jIgLwtMdvNIe",
        "colab": {
          "base_uri": "https://localhost:8080/"
        },
        "outputId": "df968164-28ed-4c86-9c0e-6eb2c07a5106"
      },
      "outputs": [
        {
          "output_type": "stream",
          "name": "stdout",
          "text": [
            "Ingrese nro: 7\n",
            "Ingrese nro: 6\n",
            "\n",
            "El primer número es mayor o igual que el segundo\n"
          ]
        }
      ],
      "source": [
        "#Comparaciones\n",
        "nro1=int(input('Ingrese nro: '))\n",
        "nro2=int(input('Ingrese nro: '))\n",
        "if nro1>=nro2:\n",
        "    print('\\nEl primer número es mayor o igual que el segundo')\n",
        "else:\n",
        "    print('\\nEl primer número es menor que el segundo')"
      ]
    },
    {
      "cell_type": "markdown",
      "metadata": {
        "id": "aulrYmkOvNIh"
      },
      "source": [
        "## Estructuras de Repetición : for"
      ]
    },
    {
      "cell_type": "code",
      "execution_count": 55,
      "metadata": {
        "id": "UvRuNPWjvNIh",
        "colab": {
          "base_uri": "https://localhost:8080/"
        },
        "outputId": "5e54f24e-e28e-4f5e-d412-a1ad3e01be6c"
      },
      "outputs": [
        {
          "output_type": "stream",
          "name": "stdout",
          "text": [
            "esto se imprime en cada ciclo porque está indexado\n",
            "esto se imprime en cada ciclo porque está indexado\n",
            "esto se imprime en cada ciclo porque está indexado\n",
            "esto se imprime en cada ciclo porque está indexado\n",
            "esto se imprime fuera del ciclo\n",
            "La lista es [4, 8, 12, 18]\n",
            "La suma de los números de la lista es:\n",
            "42\n"
          ]
        }
      ],
      "source": [
        "#Ejemplo for en lista\n",
        "#Permite recorrer todos los elementos de una lista\n",
        "#En el mismo for se le pone nombre a la variable que almacena cada elemento\n",
        "#En este caso la lista se llama mis_numeros y cada elemento numero\n",
        "\n",
        "#El objetivo del código es sumar todos los elementos de la lista\n",
        "#El acumulador debe inicializarse en 0\n",
        "#De lo contrario guardará el valor en caso de hacerse otras corridas\n",
        "\n",
        "suma=0\n",
        "mis_numeros=[4,8,12,18] \n",
        "#la variable numero designará a los elementos de la lista\n",
        "for numero in mis_numeros:\n",
        "    suma=suma+numero\n",
        "    print(\"esto se imprime en cada ciclo porque está indexado\")\n",
        "\n",
        "print(\"esto se imprime fuera del ciclo\")\n",
        "print('La lista es',mis_numeros)\n",
        "print(\"La suma de los números de la lista es:\")\n",
        "print(suma)\n"
      ]
    },
    {
      "cell_type": "code",
      "execution_count": 56,
      "metadata": {
        "id": "MCxD01uIvNIk",
        "colab": {
          "base_uri": "https://localhost:8080/"
        },
        "outputId": "8321645d-7f99-4de0-e1a7-df6e24e9cbb6"
      },
      "outputs": [
        {
          "output_type": "stream",
          "name": "stdout",
          "text": [
            "Un for para range de 0 a 3\n",
            "0\n",
            "1\n",
            "2\n",
            "3\n",
            "Un for para range de 2 a 5:\n",
            "2\n",
            "3\n",
            "4\n",
            "5\n",
            "Un for para range de 2 a 11, salto 3\n",
            "2\n",
            "5\n",
            "8\n"
          ]
        }
      ],
      "source": [
        "#For con función range\n",
        "#Función range:\n",
        "    #con un parámetro, este indica la cantidad de elementos. Empieza en 0, salto implícito 1.\n",
        "    #con dos parámetros, el primero indica el principio, el otro el final que es abierto (no lo incluye).\n",
        "    #con tres parámetros, indican principio, el final abierto, el paso o salto.\n",
        "#En los casos con dos o tres parámetros el intervalo es abierto a derecha.\n",
        "#Es decir que el segundo parámetro que indica el final abierto no pertenecerá a la lista\n",
        "\n",
        "print(\"Un for para range de 0 a 3\")\n",
        "for i in range(4):\n",
        "    print(i)\n",
        "#print()    \n",
        "\n",
        "print(\"Un for para range de 2 a 5:\")\n",
        "for j in range(2,6):\n",
        "    print(j)\n",
        "#print()\n",
        "\n",
        "print(\"Un for para range de 2 a 11, salto 3\")# Observar que no incluirá el 11\n",
        "for z in range(2,11,3):\n",
        "    print(z)\n",
        "  \n"
      ]
    },
    {
      "cell_type": "code",
      "execution_count": 57,
      "metadata": {
        "id": "xu_xGgv_vNIn",
        "colab": {
          "base_uri": "https://localhost:8080/"
        },
        "outputId": "cd39d565-981c-4bcd-807f-41b80dd35c3a"
      },
      "outputs": [
        {
          "output_type": "stream",
          "name": "stdout",
          "text": [
            "ingrese número:5\n",
            "ingrese número:5\n",
            "ingrese número:6\n",
            "ingrese número:6\n",
            "suma=  22\n"
          ]
        }
      ],
      "source": [
        "#Ingreso números (variable que llamo dato)\n",
        "#range(n) me indica que ingresaré n números\n",
        "#los acumulo en una variable, en este caso llamada suma\n",
        "\n",
        "suma=0\n",
        "for z in range(4):\n",
        "    dato=int(input(\"ingrese número:\"))\n",
        "    suma+=dato\n",
        "print(\"suma= \", suma)\n"
      ]
    },
    {
      "cell_type": "code",
      "execution_count": 58,
      "metadata": {
        "id": "z8dToxufvNIp",
        "colab": {
          "base_uri": "https://localhost:8080/"
        },
        "outputId": "0fbf8eac-738f-43c6-86c7-c012bac9229f"
      },
      "outputs": [
        {
          "output_type": "stream",
          "name": "stdout",
          "text": [
            "3\n",
            "lena\n",
            "barbara\n",
            "baboon\n",
            "El nombre de la imagen es: lena, el largo del nombre es: 4\n",
            "El nombre de la imagen es: barbara, el largo del nombre es: 7\n",
            "El nombre de la imagen es: baboon, el largo del nombre es: 6\n"
          ]
        }
      ],
      "source": [
        "#Lista de strings. Nombre variable lista: imagenes\n",
        "#Nombre de la variable que designa a los elementos: imagen\n",
        "imagenes = ['lena', 'barbara', 'baboon']\n",
        "print(len(imagenes))\n",
        "for imagen in imagenes:\n",
        "    print(imagen)\n",
        "\n",
        "for imagen in imagenes:\n",
        "    print (\"El nombre de la imagen es: {0}, el largo del nombre es: {1}\".format(imagen, len(imagen)))"
      ]
    },
    {
      "cell_type": "markdown",
      "metadata": {
        "id": "GM9wedApvNIs"
      },
      "source": [
        "### **Estructura de Repetición**\n",
        "\n",
        "\n",
        "** For con enumerate **\n"
      ]
    },
    {
      "cell_type": "code",
      "execution_count": 59,
      "metadata": {
        "id": "Oq1drEW1vNIt",
        "colab": {
          "base_uri": "https://localhost:8080/"
        },
        "outputId": "68a0c0af-233c-4878-f5d0-edef4ca46e98"
      },
      "outputs": [
        {
          "output_type": "stream",
          "name": "stdout",
          "text": [
            "1 manzana\n",
            "2 bananas\n",
            "3 uvas\n",
            "4 peras\n"
          ]
        }
      ],
      "source": [
        "mi_lista = ['manzana', 'bananas', 'uvas', 'peras']\n",
        "# la primera variable (c en nuestro caso) es el contador\n",
        "# la segunda variable (valor en nuestro caso) es precisamente el valor almacenado en cada posición\n",
        "for c, valor in enumerate(mi_lista, 1):\n",
        "    print(c, valor)\n"
      ]
    },
    {
      "cell_type": "code",
      "execution_count": 60,
      "metadata": {
        "id": "jBar5jqovNIw",
        "colab": {
          "base_uri": "https://localhost:8080/"
        },
        "outputId": "2121549a-a6f6-4a38-ca64-d7a20978b66c"
      },
      "outputs": [
        {
          "output_type": "stream",
          "name": "stdout",
          "text": [
            "[(1, 'apple'), (2, 'banana'), (3, 'grapes'), (4, 'pear')]\n",
            "(1, 'apple')\n",
            "1\n",
            "apple\n",
            "<class 'str'>\n"
          ]
        }
      ],
      "source": [
        "my_list = ['apple', 'banana', 'grapes', 'pear']\n",
        "counter_list = list(enumerate(my_list, 1))\n",
        "print(counter_list) \n",
        "print(counter_list[0]) \n",
        "print(counter_list[0][0]) \n",
        "print(counter_list[0][1]) \n",
        "print(type(counter_list[0][1]))\n",
        "# Output: [(1, 'apple'), (2, 'banana'), (3, 'grapes'), (4, 'pear')]"
      ]
    },
    {
      "cell_type": "code",
      "execution_count": 61,
      "metadata": {
        "id": "WbVOATY9vNIz",
        "colab": {
          "base_uri": "https://localhost:8080/"
        },
        "outputId": "dfe5ac0f-fd4f-476b-e108-76fec122f653"
      },
      "outputs": [
        {
          "output_type": "stream",
          "name": "stdout",
          "text": [
            "[(1, 'apple')]\n",
            "[(1, 'apple'), (2, 'banana')]\n",
            "[(1, 'apple'), (2, 'banana'), (3, 'grapes')]\n",
            "[(1, 'apple'), (2, 'banana'), (3, 'grapes'), (4, 'pear')]\n"
          ]
        }
      ],
      "source": [
        "#otra forma\n",
        "my_list = ['apple', 'banana', 'grapes', 'pear']\n",
        "counter_list=[]\n",
        "for c, valor in enumerate(my_list, 1):\n",
        "    counter_list.append((c, valor))\n",
        "    print(counter_list) "
      ]
    },
    {
      "cell_type": "markdown",
      "metadata": {
        "id": "9MllcldwvNI5"
      },
      "source": [
        "**Ejercicio 6:** \n",
        "* Defina una lista de 5 números\n",
        "* Recórrala (usando for) y para cada número imprima (print) si es impar o no (usar if y operadores)"
      ]
    },
    {
      "cell_type": "code",
      "execution_count": 62,
      "metadata": {
        "id": "nMgy-hbcq5uE",
        "colab": {
          "base_uri": "https://localhost:8080/"
        },
        "outputId": "ffa96f33-900b-4d94-a3c4-3e907b19a271"
      },
      "outputs": [
        {
          "output_type": "stream",
          "name": "stdout",
          "text": [
            "El numero es par  2\n",
            "el numero es impar  3\n",
            "El numero es par  4\n",
            "el numero es impar  5\n"
          ]
        }
      ],
      "source": [
        "list=[2,3,4,5]\n",
        "for i in list:\n",
        "  if i % 2 == 0 : \n",
        "    print(\"El numero es par \" , i)\n",
        "  else:\n",
        "    print(\"el numero es impar \", i)"
      ]
    }
  ],
  "metadata": {
    "colab": {
      "collapsed_sections": [
        "AlUHak3WvNIY"
      ],
      "name": "Ntb2_Python_2021.ipynb",
      "provenance": []
    },
    "interpreter": {
      "hash": "916dbcbb3f70747c44a77c7bcd40155683ae19c65e1c03b4aa3499c5328201f1"
    },
    "kernelspec": {
      "display_name": "Python 3.8.10 64-bit",
      "name": "python3"
    },
    "language_info": {
      "codemirror_mode": {
        "name": "ipython",
        "version": 3
      },
      "file_extension": ".py",
      "mimetype": "text/x-python",
      "name": "python",
      "nbconvert_exporter": "python",
      "pygments_lexer": "ipython3",
      "version": "3.10.2"
    }
  },
  "nbformat": 4,
  "nbformat_minor": 0
}