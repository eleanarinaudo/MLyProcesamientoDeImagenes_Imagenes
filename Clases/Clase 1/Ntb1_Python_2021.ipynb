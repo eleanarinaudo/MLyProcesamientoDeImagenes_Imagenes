{
  "cells": [
    {
      "cell_type": "markdown",
      "metadata": {
        "id": "6CGWSp8PvNBa"
      },
      "source": [
        "# <center> Curso Machine Learning e Imágenes en Python\n",
        "\n",
        "- Docentes: Dra. Valeria S. Rulloni - Dra. Ana Carolina Maldonado\n",
        "- Colaboran: Ing. Juan Manuel López\n",
        "- Ing. Axel Aguerreberry - Ing. Sebastián Palacio\n",
        "\n",
        "## Temario a desarrollar:\n",
        "\n",
        "- **Uso y herramientas básicas de Python**\n",
        "- Imágenes digitales: tipos (binarias, monocromáticas y a color)\n",
        "- Histograma. Mejora de la imagen: contraste, filtros: suavizado y detección de bordes.\n",
        "- Umbralado y Binarización. Operaciones Morfológicas: erosión, dilatación, cierre y apertura.\n",
        "- Aplicaciones\n",
        "- Clasificación de imágenes.\n",
        "- Aprendizaje automático\n",
        "- Aprendizaje profundo: Redes neuronales\n",
        "- Aplicaciones\n",
        "\n",
        "**Recomendación:**\n",
        "\n",
        "- Antes que nada **realice una copia de este archivo y trabaje en ella** (File-> Make a Copy, puede cambiarle el nombre fácilmente). Guárdelo en la misma carpeta de preferencia (si está en Colaboratory lo guarda por defecto en la carpeta Colaboratory del drive, se puede reubicar).\n"
      ]
    },
    {
      "cell_type": "markdown",
      "metadata": {
        "id": "Ex9kCb0EvNBc"
      },
      "source": [
        "**CLASE 1:**  \n",
        "**Uso Básico de Python** (en Colaboratory o con Jupyter Notebook):\n",
        "\n",
        "## Inicio y consideraciones\n",
        "\n",
        "- Este archivo y todos los de extensión .ipynb se abren con Jupyter Notebook (de Anaconda) o Google Colaboratory y se dividen en bloques.\n",
        "- Básicamente: bloques de texto (Markdown) y otros de código (Code, en Python).\n",
        "- Cualquier bloque se ejecuta con shift+enter o utilizando el botón Run.\n",
        "- Los bloques se pueden eliminar con el menú Edit. O con los botones correspondientes (cortar, copiar, pegar, desplazar).\n",
        "- El archivo se puede ejecutar en el entorno de Windows en la carpeta correspondiente (o desde cualquiera si se ha configurado el path) mediante el comando python en línea de comandos\n",
        "\n",
        "**En los bloques de texto (Markdown)** :\n",
        "\n",
        "- Mediante un doble clic en el bloque, posibilito la modificación del mismo.\n",
        "- Para títulos se usa # y luego del símbolo # se debe dejar un espacio.\n",
        "- Con varios ## se manejan los subtítulos por niveles y, con esto, el tamaño de la letra.\n",
        "- Encerrando un texto entre uno o dos asteriscos se consigue texto en cursiva o negrita.\n",
        "\n",
        "**En los bloques de código (Code)** :\n",
        "\n",
        "- Si el renglón empieza con # es comentario, si no, es instrucción.\n",
        "- En una línea de instrucción, se pueda agregar al final un comentario luego de #.\n",
        "\n",
        "**shift+enter** para ejecutar cada celda/bloque/Cell (o botón Run), tanto en bloque de textos como de códigos\n"
      ]
    },
    {
      "cell_type": "markdown",
      "metadata": {
        "id": "eWS0Q_yjvNBd"
      },
      "source": [
        "# 1 Instrucciones Básicas\n",
        "\n",
        "## 1.1 Datos\n",
        "\n",
        "**Captura de Datos: input**  \n",
        "**Muestra de Datos: print**\n"
      ]
    },
    {
      "cell_type": "code",
      "execution_count": 1,
      "metadata": {
        "colab": {
          "base_uri": "https://localhost:8080/"
        },
        "id": "-9UIBrzovNBf",
        "outputId": "bd07fcd0-dd6b-49c9-82d1-e76fe149b253"
      },
      "outputs": [
        {
          "name": "stdout",
          "output_type": "stream",
          "text": [
            "Dígame un número: 2\n",
            "El nro ingresado es:  2\n",
            "El tipo del dato ingresado es  <class 'str'>\n"
          ]
        }
      ],
      "source": [
        "# Se pide el ingreso de un número por teclado y se muestra el número y el tipo de dato.\n",
        "# Si no forzamos el tipo de dato en el ingreso, lo toma como string (cadena de caracteres)\n",
        "numero = input(\"Dígame un número: \")\n",
        "print(\"El nro ingresado es: \", numero)\n",
        "print(\"El tipo del dato ingresado es \", type(numero))\n"
      ]
    },
    {
      "cell_type": "markdown",
      "metadata": {
        "id": "j3WMOyf0vNBn"
      },
      "source": [
        "**Tipos de datos básicos en Python:**\n",
        "\n",
        "int\n",
        "\n",
        "float\n",
        "\n",
        "str\n",
        "\n",
        "bool\n",
        "\n",
        "complex\n"
      ]
    },
    {
      "cell_type": "markdown",
      "metadata": {
        "id": "y6ri7I6JvNBo"
      },
      "source": [
        "**Si desea que el número corresponda a un tipo de dato numérico, por ejemplo número entero o flotante, debe darle la orden**\n"
      ]
    },
    {
      "cell_type": "code",
      "execution_count": 2,
      "metadata": {
        "colab": {
          "base_uri": "https://localhost:8080/"
        },
        "id": "JX7DSfyGvNBq",
        "outputId": "e86c6650-621f-4142-a713-d7f08bce5c31"
      },
      "outputs": [
        {
          "name": "stdout",
          "output_type": "stream",
          "text": [
            "Dígame un número: 3\n",
            "El nro ingresado es:  3\n",
            "El tipo del dato ingresado es  <class 'int'> porque se lo forzó\n"
          ]
        }
      ],
      "source": [
        "numero = int(input(\"Dígame un número: \"))\n",
        "print(\"El nro ingresado es: \", numero)\n",
        "print(\"El tipo del dato ingresado es \", type(numero), \"porque se lo forzó\")\n"
      ]
    },
    {
      "cell_type": "markdown",
      "metadata": {
        "id": "4EsGYPn_sl6c"
      },
      "source": [
        "**Asignación directa:**\n"
      ]
    },
    {
      "cell_type": "code",
      "execution_count": 3,
      "metadata": {
        "colab": {
          "base_uri": "https://localhost:8080/"
        },
        "id": "H4ita9MUsW2A",
        "outputId": "7d14bd64-30aa-4781-8bb0-c9753e75aa02"
      },
      "outputs": [
        {
          "name": "stdout",
          "output_type": "stream",
          "text": [
            "7 <class 'int'>\n"
          ]
        }
      ],
      "source": [
        "x = 7  # variable de nombre x y con valor 7, tipo de la variable: int (entero)\n",
        "print(x, type(x))\n"
      ]
    },
    {
      "cell_type": "markdown",
      "metadata": {
        "id": "SKLFuvfqvNBx"
      },
      "source": [
        "Si asignamos un valor numérico a una variable, esta define automáticamente el tipo.\n",
        "\n",
        "Los números reales se almacenan en variables tipo \"float\".\n",
        "\n",
        "Los valores que puede representar van desde ±2,2250738585072020 x 10308 hasta ±1,7976931348623157×10308, ya que utilizan 64 bits.\n"
      ]
    },
    {
      "cell_type": "code",
      "execution_count": 4,
      "metadata": {
        "colab": {
          "base_uri": "https://localhost:8080/"
        },
        "id": "njvtrlsXvNBy",
        "outputId": "9c2d7cfa-395c-45e0-b141-73aa5f5f6007"
      },
      "outputs": [
        {
          "name": "stdout",
          "output_type": "stream",
          "text": [
            "Asignacion de un número entero a una variable. El dato asignado es  24  y su tipo es  <class 'int'>\n",
            "Asignacion de un número real a una variable. El dato asignado es  24.0  y su tipo es  <class 'float'>\n",
            "El dato asignado a la variable es  456966786151987643 y su tipo es  <class 'int'>\n"
          ]
        }
      ],
      "source": [
        "nroi = 24\n",
        "print(\n",
        "    \"Asignacion de un número entero a una variable. El dato asignado es \",\n",
        "    nroi,\n",
        "    \" y su tipo es \",\n",
        "    type(nroi),\n",
        ")\n",
        "nrof = 24.0\n",
        "print(\n",
        "    \"Asignacion de un número real a una variable. El dato asignado es \",\n",
        "    nrof,\n",
        "    \" y su tipo es \",\n",
        "    type(nrof),\n",
        ")\n",
        "\n",
        "# Asignamos un entero largo\n",
        "nroL = 456966786151987643\n",
        "print(\"El dato asignado a la variable es \", nroL, \"y su tipo es \", type(nroL))\n"
      ]
    },
    {
      "cell_type": "markdown",
      "metadata": {
        "id": "ebPDUDoEvNB5"
      },
      "source": [
        "**También se pueden asignar valores utilizando notación científica**\n"
      ]
    },
    {
      "cell_type": "code",
      "execution_count": 5,
      "metadata": {
        "colab": {
          "base_uri": "https://localhost:8080/"
        },
        "id": "6L8mIYngvNB7",
        "outputId": "f3dabb6a-0a46-4785-bc03-77fce0aa7fe1"
      },
      "outputs": [
        {
          "name": "stdout",
          "output_type": "stream",
          "text": [
            "0.002\n",
            "El tipo de dato asignado con notación científica es  <class 'float'>\n"
          ]
        }
      ],
      "source": [
        "nror = 2e-3\n",
        "print(nror)\n",
        "print(\"El tipo de dato asignado con notación científica es \", type(nror))\n"
      ]
    },
    {
      "cell_type": "markdown",
      "metadata": {
        "id": "Flju18ChvNCB"
      },
      "source": [
        "**En las versiones actuales no hace falta definir enteros long. Toma tantos bits para almacenar como haga falta**\n"
      ]
    },
    {
      "cell_type": "code",
      "execution_count": 6,
      "metadata": {
        "colab": {
          "base_uri": "https://localhost:8080/"
        },
        "id": "5ZNZg3GevNCD",
        "outputId": "8c772246-1350-4bd0-d113-4f8ea19cec9d"
      },
      "outputs": [
        {
          "name": "stdout",
          "output_type": "stream",
          "text": [
            "-3\n",
            "3\n"
          ]
        }
      ],
      "source": [
        "# Se puede calcular el valor absoluto de un número\n",
        "nro = -3\n",
        "print(nro)\n",
        "\n",
        "c = abs(nro)\n",
        "print(c)\n"
      ]
    },
    {
      "cell_type": "code",
      "execution_count": 7,
      "metadata": {
        "colab": {
          "base_uri": "https://localhost:8080/"
        },
        "id": "77uFNyJ4vNCJ",
        "outputId": "e304ede6-1894-4c4e-b6d9-6b4d7f469d7f"
      },
      "outputs": [
        {
          "name": "stdout",
          "output_type": "stream",
          "text": [
            "0.348 <class 'float'>\n",
            "-10.5 <class 'float'>\n",
            "150.0 <class 'float'>\n",
            "5 <class 'float'>\n",
            "hola <class 'str'>\n"
          ]
        }
      ],
      "source": [
        "# Se pueden hacer asignaciones simultáneas:\n",
        "nro_1, nro_2, nro_3, nro_4, var = 0.348, -10.5, 1.5e2, 5, \"hola\"\n",
        "\n",
        "print(nro_1, type(nro_1))\n",
        "print(nro_2, type(nro_2))\n",
        "print(nro_3, type(nro_3))\n",
        "print(nro_4, type(nro_3))\n",
        "print(var, type(var))\n"
      ]
    },
    {
      "cell_type": "markdown",
      "metadata": {
        "id": "ZVtVADmkvNCQ"
      },
      "source": [
        "**Puede convertir tipos de datos numéricos con las funciones\n",
        "int(), float(), complex()**\n"
      ]
    },
    {
      "cell_type": "code",
      "execution_count": 8,
      "metadata": {
        "colab": {
          "base_uri": "https://localhost:8080/"
        },
        "id": "BUeGSaarvNCR",
        "outputId": "c27482eb-66d2-4e48-89fd-ccd78810ff70"
      },
      "outputs": [
        {
          "name": "stdout",
          "output_type": "stream",
          "text": [
            "<class 'float'> 3 3.0 3.4\n"
          ]
        }
      ],
      "source": [
        "h = type(3.4)\n",
        "o = int(3.4)\n",
        "l = float(3)\n",
        "a = float(3.4)\n",
        "print(h, o, l, a)\n",
        "# float(\"palabra\") #función inválida para dato string\n"
      ]
    },
    {
      "cell_type": "code",
      "execution_count": 9,
      "metadata": {
        "id": "7ovtZk5LvNCX"
      },
      "outputs": [],
      "source": [
        "# este bloque de código es para que pruebe con otros ejemplos similares de lo visto hasta ahora:\n"
      ]
    },
    {
      "cell_type": "markdown",
      "metadata": {
        "id": "-jQm3JgFvNCc"
      },
      "source": [
        "## 1.2 Operaciones Aritméticas y asignación de variables\n",
        "\n",
        "### Operaciones Aritméticas Elementales: + , - , \\* , / \\*\\*\n"
      ]
    },
    {
      "cell_type": "code",
      "execution_count": 10,
      "metadata": {
        "colab": {
          "base_uri": "https://localhost:8080/"
        },
        "id": "5xSJOJHhvNCd",
        "outputId": "e0425b06-c695-406f-fb7d-2a7156939abd"
      },
      "outputs": [
        {
          "name": "stdout",
          "output_type": "stream",
          "text": [
            "Dígame un número, lo guardaremos en la variable x: 2\n",
            "El nro ingresado es:  2.0\n",
            "Tipo de x:\n",
            "<class 'float'>\n",
            "Valor de la variable x es  2.0\n"
          ]
        }
      ],
      "source": [
        "# Ingresando un número por teclado\n",
        "x = float(input(\"Dígame un número, lo guardaremos en la variable x: \"))\n",
        "print(\"El nro ingresado es: \", x)\n",
        "\n",
        "print(\"Tipo de x:\")\n",
        "print(type(x))  # Imprime el tipo (o `clase`) de x\n",
        "print(\"Valor de la variable x es \", x)\n"
      ]
    },
    {
      "cell_type": "code",
      "execution_count": 11,
      "metadata": {
        "colab": {
          "base_uri": "https://localhost:8080/"
        },
        "id": "SZWY-aibvNCk",
        "outputId": "7163947f-2fae-4a52-cfd0-13bc7dd81718"
      },
      "outputs": [
        {
          "name": "stdout",
          "output_type": "stream",
          "text": [
            "El resultado de sumarle 1 es  3.0\n",
            "restarle 1 da  1.0\n",
            "multipliicar por dos da 4.0\n",
            "hacer x/2, devuelve  1.0\n",
            "si elevamos al cuadrado a x  4.0\n",
            "Para imprimir varios valores en una línea:\n",
            "1 2 2.0 10\n"
          ]
        }
      ],
      "source": [
        "print(\"El resultado de sumarle 1 es \", x + 1)\n",
        "print(\"restarle 1 da \", x - 1)\n",
        "print(\"multipliicar por dos da\", x * 2)\n",
        "print(\"hacer x/2, devuelve \", x / 2)\n",
        "print(\"si elevamos al cuadrado a x \", x**2)\n",
        "print(\"Para imprimir varios valores en una línea:\")\n",
        "print(\n",
        "    1, 2, x, 5 * 2\n",
        ")  # imprime varios valores a la vez en la misma línea, separarlos por coma\n"
      ]
    },
    {
      "cell_type": "markdown",
      "metadata": {
        "id": "FaxhuEmfvNCp"
      },
      "source": [
        "### Operaciones entre enteros\n"
      ]
    },
    {
      "cell_type": "code",
      "execution_count": 12,
      "metadata": {
        "colab": {
          "base_uri": "https://localhost:8080/"
        },
        "id": "nlR9B3usvNCq",
        "outputId": "dd259053-f4b1-4220-c20e-f19605edf0a1"
      },
      "outputs": [
        {
          "name": "stdout",
          "output_type": "stream",
          "text": [
            "9\n",
            "2\n",
            "4\n",
            "1\n"
          ]
        }
      ],
      "source": [
        "# Operaciones entre números enteros: cociente y resto (o módulo)\n",
        "a = 9\n",
        "b = 2\n",
        "c = a // b  # Cociente entre enteros\n",
        "d = a % b  # Resto entre enteros\n",
        "print(a)\n",
        "print(b)\n",
        "print(c)  # Cociente entre enteros- Devuelve 4\n",
        "print(d)  # Resto entre enteros- Devuelve 1\n"
      ]
    },
    {
      "cell_type": "code",
      "execution_count": 13,
      "metadata": {
        "id": "LnEo228OvNCx"
      },
      "outputs": [],
      "source": [
        "# este bloque de código es para que pruebe con otros ejemplos similares de lo visto hasta ahora:\n"
      ]
    },
    {
      "cell_type": "markdown",
      "metadata": {
        "id": "BeJtru-OvNC4"
      },
      "source": [
        "**Ejercicio 1: Definir una variable $a$ con valor 5 y una variable $b$ que sea igual al cubo de la anterior más 2. Mostrarlas en pantalla**\n"
      ]
    },
    {
      "cell_type": "code",
      "execution_count": 14,
      "metadata": {
        "colab": {
          "base_uri": "https://localhost:8080/"
        },
        "id": "WWxR7xkavNC5",
        "outputId": "11712ea0-bc41-4c74-cb4b-9684f54db9c0"
      },
      "outputs": [
        {
          "name": "stdout",
          "output_type": "stream",
          "text": [
            "5 125\n"
          ]
        }
      ],
      "source": [
        "a = 5\n",
        "b = a**3\n",
        "print(a, b)\n"
      ]
    },
    {
      "cell_type": "markdown",
      "metadata": {
        "id": "ZiciOwC1vNC_"
      },
      "source": [
        "**Ejercicio 2: En el siguiente bloque o en un nuevo cuaderno (notebook) definir**\n",
        "\n",
        "- (a) la variable **var1** que contenga al número 10. Luego a\n",
        "- (b) **var2** como el doble de var y\n",
        "- (c) **var3** como el resultado de una cuenta combinada a su gusto.\n",
        "- (d) Imprima los resultados\n"
      ]
    },
    {
      "cell_type": "code",
      "execution_count": 15,
      "metadata": {
        "colab": {
          "base_uri": "https://localhost:8080/"
        },
        "id": "kUde0iwKvNDA",
        "outputId": "15380661-9de8-40bf-9fad-edad8b989d0a"
      },
      "outputs": [
        {
          "name": "stdout",
          "output_type": "stream",
          "text": [
            "10 100 110\n"
          ]
        }
      ],
      "source": [
        "# a\n",
        "var1 = 10\n",
        "# b\n",
        "var2 = var1**2\n",
        "# c\n",
        "var3 = var1 + var2\n",
        "# d\n",
        "print(var1, var2, var3)\n"
      ]
    },
    {
      "cell_type": "markdown",
      "metadata": {
        "id": "KNIp-tKOvNDG"
      },
      "source": [
        "## 1.3 Operadores (Opcional)\n",
        "\n",
        "**Lista de Operadores de Asignación**\n",
        "\n",
        "Operador =\n",
        "\n",
        "Operador +=\n",
        "\n",
        "Operador -=\n",
        "\n",
        "Operador \\*=\n",
        "\n",
        "Operador /=\n",
        "\n",
        "Operador\\*\\*=\n",
        "\n",
        "Operador //=\n",
        "\n",
        "Operador %=\n"
      ]
    },
    {
      "cell_type": "code",
      "execution_count": 16,
      "metadata": {
        "colab": {
          "base_uri": "https://localhost:8080/"
        },
        "id": "14uROtwOvNDH",
        "outputId": "10b7ddaa-5262-4484-928c-2ce7c8da4d98"
      },
      "outputs": [
        {
          "name": "stdout",
          "output_type": "stream",
          "text": [
            "5 <class 'int'>\n"
          ]
        }
      ],
      "source": [
        "# primero defino variables con valores (asigno valores a variables)\n",
        "a, b, c, d = 21, 10, 5, 3\n",
        "print(c, type(c))\n"
      ]
    },
    {
      "cell_type": "code",
      "execution_count": 17,
      "metadata": {
        "colab": {
          "base_uri": "https://localhost:8080/"
        },
        "id": "JDE4XwInvNDO",
        "outputId": "3126c940-d5eb-4f91-da51-d1ccb7cddb41"
      },
      "outputs": [
        {
          "name": "stdout",
          "output_type": "stream",
          "text": [
            "Operador +=  c+=1| El valor de variable 'c' ahora es  6\n",
            "Operador *= | El nuevo valor de variable c, c*=10 es  60\n",
            "Operador /= | El nuevo valor de variable c, c/=10 es  6.0\n",
            "Operador **= | El nuevo valor de b, resultado de elevar b al exponente d, b**=d  1000\n",
            "Operador //= | El nuevo valor de b, resultado de dividir (en enteros) b por a, b//=a es  47\n",
            "Operador %= | El nuevo valor de c, resto de la división en enteros, c por d, c%=d es  0.0\n",
            "0.0 <class 'float'>\n"
          ]
        }
      ],
      "source": [
        "# Bloque Opcional\n",
        "# Ejemplos con el uso de operadores de asignación\n",
        "c += 1\n",
        "# A c le suma 1 y el resultado es guardado en c\n",
        "print(\"Operador +=  c+=1| El valor de variable 'c' ahora es \", c)\n",
        "\n",
        "c *= 10\n",
        "# El valor guardado en c es multiplicado por el valor de a y el resultado es almacenado en c\n",
        "print(\"Operador *= | El nuevo valor de variable c, c*=10 es \", c)\n",
        "\n",
        "c /= 10\n",
        "# Lo mismo que en el caso anterior con la división\n",
        "print(\"Operador /= | El nuevo valor de variable c, c/=10 es \", c)\n",
        "\n",
        "b **= d\n",
        "# Se eleva b al exponente d\n",
        "print(\n",
        "    \"Operador **= | El nuevo valor de b, resultado de elevar b al exponente d, b**=d \",\n",
        "    b,\n",
        ")\n",
        "\n",
        "b //= a\n",
        "print(\n",
        "    \"Operador //= | El nuevo valor de b, resultado de dividir (en enteros) b por a, b//=a es \",\n",
        "    b,\n",
        ")\n",
        "\n",
        "\n",
        "c %= d\n",
        "# Se obtiene el resto de dividir c por d\n",
        "print(\n",
        "    \"Operador %= | El nuevo valor de c, resto de la división en enteros, c por d, c%=d es \",\n",
        "    c,\n",
        ")\n",
        "\n",
        "print(c, type(c))\n"
      ]
    },
    {
      "cell_type": "code",
      "execution_count": 18,
      "metadata": {
        "colab": {
          "base_uri": "https://localhost:8080/"
        },
        "id": "UDZh-AS6vNDU",
        "outputId": "2426b30b-a42d-4440-f474-e6c93d111b75"
      },
      "outputs": [
        {
          "name": "stdout",
          "output_type": "stream",
          "text": [
            "2.5 <class 'float'>\n",
            "7.5 <class 'float'>\n",
            "10.5\n",
            "8.0\n"
          ]
        }
      ],
      "source": [
        "# Bloque Opcional\n",
        "# más ejemplos mezclados\n",
        "y = 2.5\n",
        "print(y, type(y))\n",
        "x = 3\n",
        "z = x * y\n",
        "print(z, type(z))\n",
        "z += x  # Equivale a z=z+x\n",
        "print(z)\n",
        "z -= y  # Equivale a z=z-y\n",
        "print(z)\n"
      ]
    },
    {
      "cell_type": "markdown",
      "metadata": {
        "id": "HGazRqi5vNDZ"
      },
      "source": [
        "**Ejercicio 3: En el siguiente bloque o en un nuevo cuaderno (notebook) definir, usando los operadores de asignación:**\n",
        "\n",
        "- (a) Definir una variable **x** que contenga al número 30. Luego\n",
        "- (b) cambiarla por el resto de dividir a **x** por 7 y\n",
        "- (c) luego como el resultado de una cuenta combinada a su gusto.\n",
        "- (d) Imprima los resultados parciales y el final\n"
      ]
    },
    {
      "cell_type": "code",
      "execution_count": 19,
      "metadata": {
        "colab": {
          "base_uri": "https://localhost:8080/"
        },
        "id": "nqAg_JqjvNDa",
        "outputId": "d5879d35-f7e2-4c47-cf56-133bb865f428"
      },
      "outputs": [
        {
          "name": "stdout",
          "output_type": "stream",
          "text": [
            "El valor de variable x es 30\n",
            "El resto de dividir por 7 es 2\n",
            "La suma con 2 es 4\n"
          ]
        }
      ],
      "source": [
        "# a\n",
        "x = 30\n",
        "print(\"El valor de variable x es\", x)\n",
        "# b\n",
        "x %= 7\n",
        "print(\"El resto de dividir por 7 es\", x)\n",
        "# c\n",
        "x += 2\n",
        "print(\"La suma con 2 es\", x)\n"
      ]
    },
    {
      "cell_type": "markdown",
      "metadata": {
        "id": "P0u08WojvNDf"
      },
      "source": [
        "## 1.4 Datos booleanos (True y False)\n"
      ]
    },
    {
      "cell_type": "code",
      "execution_count": 20,
      "metadata": {
        "colab": {
          "base_uri": "https://localhost:8080/"
        },
        "id": "0ODEHZrWvNDh",
        "outputId": "7e3e4b19-7b0a-4363-f63e-522b2aedcebc"
      },
      "outputs": [
        {
          "name": "stdout",
          "output_type": "stream",
          "text": [
            "Valor de v1:  True Su tipo es:  <class 'bool'>\n",
            "Valor de v2:  False Su tipo es:  <class 'bool'>\n",
            "\n"
          ]
        }
      ],
      "source": [
        "# Tipo de dato booleano: 'bool', solo dos valores posibles, binario\n",
        "v1 = True  # el valor verdadero: True\n",
        "v2 = False  # el valor falso: False\n",
        "\n",
        "print(\"Valor de v1: \", v1, \"Su tipo es: \", type(v1))\n",
        "print(\"Valor de v2: \", v2, \"Su tipo es: \", type(v2))\n",
        "print()\n"
      ]
    },
    {
      "cell_type": "markdown",
      "metadata": {
        "id": "XQcbplmv7fuv"
      },
      "source": [
        "### Operaciones Lógicas AND, OR y NOT\\*\\*\n"
      ]
    },
    {
      "cell_type": "code",
      "execution_count": 21,
      "metadata": {
        "colab": {
          "base_uri": "https://localhost:8080/"
        },
        "id": "1hn7JS_m7c9D",
        "outputId": "89e1597d-1c89-4c37-ed1e-18276b583b2d"
      },
      "outputs": [
        {
          "name": "stdout",
          "output_type": "stream",
          "text": [
            "v1 and v2=  False\n",
            "v1 or v2=  True\n",
            "v1 negado=  False\n"
          ]
        }
      ],
      "source": [
        "# Operaciones Lógicas y, o y negación\n",
        "print(\"v1 and v2= \", v1 and v2)  # y lógico; imprime False\n",
        "print(\"v1 or v2= \", v1 or v2)  # o lógico; imprime True\n",
        "print(\"v1 negado= \", not v1)  # negación lógica, imprime False\n"
      ]
    },
    {
      "cell_type": "markdown",
      "metadata": {
        "id": "hfoPugQVvNDm"
      },
      "source": [
        "### Comparaciones\n"
      ]
    },
    {
      "cell_type": "markdown",
      "metadata": {
        "id": "AlUHak3WvNIY"
      },
      "source": [
        "### Operadores para comparar: (devuelven un valor booleano)\n",
        "\n",
        "#### == ; != ; < ; > ; <= ; >=\n"
      ]
    },
    {
      "cell_type": "code",
      "execution_count": 22,
      "metadata": {
        "colab": {
          "base_uri": "https://localhost:8080/"
        },
        "id": "fWyEE9N8vNDn",
        "outputId": "5e91f3cb-405a-4cb2-c154-f0656d45b951"
      },
      "outputs": [
        {
          "name": "stdout",
          "output_type": "stream",
          "text": [
            "3==5 False\n",
            "3 !=6 True\n",
            "3<5 True\n"
          ]
        }
      ],
      "source": [
        "# Comparaciones\n",
        "print(\"3==5\", 3 == 5)  # Imprime False ya que son distintos\n",
        "print(\"3 !=6\", 3 != 6)  # Imprime True ya que son distintos\n",
        "print(\"3<5\", 3 < 5)  # Imprime True ya que 3 es menor que 5\n"
      ]
    },
    {
      "cell_type": "markdown",
      "metadata": {
        "id": "Ve4HddVSvNDu"
      },
      "source": [
        "**Ejercicio 4:**\n",
        "\n",
        "- Defina dos variables booleanas: A y B.\n",
        "- defina una variable C que devuelva True sólo si A y B son verdaderas (True) y D que devuelva True si A es True o C es True.\n",
        "- Reasigne valores a A y B usando comparaciones de números.\n",
        "- imprima en el proceso\n"
      ]
    },
    {
      "cell_type": "code",
      "execution_count": 23,
      "metadata": {
        "colab": {
          "base_uri": "https://localhost:8080/"
        },
        "id": "yHAQtyjJvNDv",
        "outputId": "21dc3096-ede2-4292-b79d-508071964331"
      },
      "outputs": [
        {
          "name": "stdout",
          "output_type": "stream",
          "text": [
            "4==4: True\n",
            "'string'=='string': True\n",
            "a and b: True\n",
            "a or c: True\n",
            "Reasignacion de a: False\n",
            "Reasignacion de b: True\n"
          ]
        }
      ],
      "source": [
        "a = 4 == 4\n",
        "print(\"4==4:\", a)\n",
        "\n",
        "b = \"string\" == \"string\"\n",
        "print(\"'string'=='string':\", b)\n",
        "\n",
        "c = a and b\n",
        "print(\"a and b:\", c)\n",
        "\n",
        "d = a or c\n",
        "print(\"a or c:\", d)\n",
        "\n",
        "a = 4 == 3\n",
        "print(\"Reasignacion de a:\", a)\n",
        "\n",
        "b = 5 != 6\n",
        "print(\"Reasignacion de b:\", b)\n"
      ]
    },
    {
      "cell_type": "markdown",
      "metadata": {
        "id": "yEKN_SBmvND1"
      },
      "source": [
        "**Ejercicio 5:**\n",
        "\n",
        "- Asigne el valor 7 a la variable $x$.\n",
        "- Verifique e imprima la veracidad de la siguiente afirmación: $x^2+5-2$ igual a $(x*5-9)*2$, para el valor $x$ asignado en el item anterior, usando las herramientas vistas hasta el momento.\n",
        "- Verifique e imprima que no es cierto si x es -7\n"
      ]
    },
    {
      "cell_type": "code",
      "execution_count": 24,
      "metadata": {
        "colab": {
          "base_uri": "https://localhost:8080/"
        },
        "id": "WZcED08ovND2",
        "outputId": "3da9ce50-c95a-4c89-f560-345b034551d0"
      },
      "outputs": [
        {
          "name": "stdout",
          "output_type": "stream",
          "text": [
            " Son iguales 52 == 52  ?\n",
            " True\n",
            " Son iguales 52 == -88  ?\n",
            " False\n"
          ]
        }
      ],
      "source": [
        "x = 7\n",
        "x1 = x**2 + 5 - 2\n",
        "x2 = (x * 5 - 9) * 2\n",
        "print(\" Son iguales %d == %d  ?\\n\" % (x1, x2), x1 == x2)\n",
        "\n",
        "x = -7\n",
        "x1 = x**2 + 5 - 2\n",
        "x2 = (x * 5 - 9) * 2\n",
        "print(\" Son iguales %d == %d  ?\\n\" % (x1, x2), x1 == x2)\n"
      ]
    },
    {
      "cell_type": "code",
      "execution_count": 25,
      "metadata": {
        "colab": {
          "base_uri": "https://localhost:8080/"
        },
        "id": "u38YiNmIRJA1",
        "outputId": "b1b0783e-54a1-4990-d3e5-ef34e8f3a61d"
      },
      "outputs": [
        {
          "name": "stdout",
          "output_type": "stream",
          "text": [
            " Son iguales 52 == 52  ?\n",
            " True\n",
            "Son iguales ( x**2 + 5 - 2 == ( x*5 - 9 )*2 ) ?\n",
            " False\n"
          ]
        }
      ],
      "source": [
        "x = 7\n",
        "x1 = x**2 + 5 - 2\n",
        "x2 = (x * 5 - 9) * 2\n",
        "print(\" Son iguales %s == %s  ?\\n\" % (x1, x2), x1 == x2)\n",
        "\n",
        "x = -7\n",
        "x1 = x**2 + 5 - 2\n",
        "x2 = (x * 5 - 9) * 2\n",
        "print(\"Son iguales ( x**2 + 5 - 2 == ( x*5 - 9 )*2 ) ?\\n\", x1 == x2)\n"
      ]
    },
    {
      "cell_type": "markdown",
      "metadata": {
        "id": "zclqS6w6vND7"
      },
      "source": [
        "## 1.5 Listas\n",
        "\n",
        "### Los elementos de una lista se colocan entre corchetes, separados por comas\n"
      ]
    },
    {
      "cell_type": "code",
      "execution_count": 26,
      "metadata": {
        "colab": {
          "base_uri": "https://localhost:8080/"
        },
        "id": "N5mdC7l6vND9",
        "outputId": "c0ba448f-7fde-442c-eb47-5af62ae04176"
      },
      "outputs": [
        {
          "name": "stdout",
          "output_type": "stream",
          "text": [
            "lista=  [1, 3, 5] su tipo es  <class 'list'>\n"
          ]
        }
      ],
      "source": [
        "# Definamos una Lista\n",
        "# Para hacerlo se usan corchetes y se separan los elementos mediante coma\n",
        "lista = [1, 3, 5]\n",
        "print(\"lista= \", lista, \"su tipo es \", type(lista))\n"
      ]
    },
    {
      "cell_type": "code",
      "execution_count": 27,
      "metadata": {
        "colab": {
          "base_uri": "https://localhost:8080/"
        },
        "id": "DlJDrmU23ucd",
        "outputId": "db3d0fe6-270b-4071-d17e-592fb6d073e9"
      },
      "outputs": [
        {
          "name": "stdout",
          "output_type": "stream",
          "text": [
            "1\n"
          ]
        }
      ],
      "source": [
        "# acceso a un elemento de la lista\n",
        "print(lista[0])  # el primer índice es el 0\n"
      ]
    },
    {
      "cell_type": "code",
      "execution_count": 28,
      "metadata": {
        "colab": {
          "base_uri": "https://localhost:8080/"
        },
        "id": "MD23q3Kt4Ly0",
        "outputId": "f0372a0b-c593-46a3-a57f-f60d128ed1a8"
      },
      "outputs": [
        {
          "name": "stdout",
          "output_type": "stream",
          "text": [
            "[4, 6, 8]\n",
            "6 segundo elemento de la lista\n"
          ]
        }
      ],
      "source": [
        "# genere una lista de elementos, puede contener elementos de distinto tipo, complete:\n",
        "l = [4, 6, 8]\n",
        "print(l)\n",
        "print(l[1], \"segundo elemento de la lista\")\n"
      ]
    },
    {
      "cell_type": "markdown",
      "metadata": {
        "id": "BdOF9oew6C9-"
      },
      "source": [
        "Para copiar una variable, una lista  \n",
        "se usa .copy()\n"
      ]
    },
    {
      "cell_type": "code",
      "execution_count": 29,
      "metadata": {
        "colab": {
          "base_uri": "https://localhost:8080/"
        },
        "id": "1IZL4_2hvNEC",
        "outputId": "3beebca0-f73c-4d87-a872-abb31c01f412"
      },
      "outputs": [
        {
          "name": "stdout",
          "output_type": "stream",
          "text": [
            "lista vieja  ['gato', 1, 2, 3]\n",
            "lista nueva igual a lista vieja ['gato', 1, 2, 3]\n"
          ]
        }
      ],
      "source": [
        "listavieja = [\"gato\", 1, 2, 3]\n",
        "listanueva = listavieja.copy()  # copiamos una lista\n",
        "print(\"lista vieja \", listavieja)\n",
        "print(\"lista nueva igual a lista vieja\", listanueva)\n"
      ]
    },
    {
      "cell_type": "code",
      "execution_count": 30,
      "metadata": {
        "colab": {
          "base_uri": "https://localhost:8080/"
        },
        "id": "fwrnEQIb40Bw",
        "outputId": "67528493-0682-418d-83ec-f914229f61a8"
      },
      "outputs": [
        {
          "name": "stdout",
          "output_type": "stream",
          "text": [
            "lista nueva  [5, 1, 2, 3]\n"
          ]
        }
      ],
      "source": [
        "listanueva[0] = 5\n",
        "# Cambio en la lista nueva el primer lugar\n",
        "\n",
        "print(\"lista nueva \", listanueva)\n"
      ]
    },
    {
      "cell_type": "code",
      "execution_count": 31,
      "metadata": {
        "colab": {
          "base_uri": "https://localhost:8080/"
        },
        "id": "RF74GUXL5usd",
        "outputId": "debd9065-585b-4fe7-d080-b27afe20d41b"
      },
      "outputs": [
        {
          "name": "stdout",
          "output_type": "stream",
          "text": [
            "lista vieja  ['gato', 1, 2, 3]\n"
          ]
        }
      ],
      "source": [
        "print(\"lista vieja \", listavieja)\n"
      ]
    },
    {
      "cell_type": "markdown",
      "metadata": {
        "id": "GMxpoORGvNEO"
      },
      "source": [
        "### Operador in\n"
      ]
    },
    {
      "cell_type": "code",
      "execution_count": 32,
      "metadata": {
        "colab": {
          "base_uri": "https://localhost:8080/"
        },
        "id": "agz-QCuivNEP",
        "outputId": "e88b3c1c-0d07-4d35-ea44-9c6ae0855873"
      },
      "outputs": [
        {
          "name": "stdout",
          "output_type": "stream",
          "text": [
            "False\n"
          ]
        }
      ],
      "source": [
        "# Definamos una Lista\n",
        "lista = [\n",
        "    1,\n",
        "    3,\n",
        "    5,\n",
        "]  # Para hacerlo se usan corchetes y se separan los elementos mediante coma\n",
        "\n",
        "print(2 in lista)  # devuelve booleano\n"
      ]
    },
    {
      "cell_type": "code",
      "execution_count": 33,
      "metadata": {
        "colab": {
          "base_uri": "https://localhost:8080/"
        },
        "id": "OOsKNJiB6duc",
        "outputId": "eb361f6d-04a8-41b2-fb6c-c42550e34bbf"
      },
      "outputs": [
        {
          "name": "stdout",
          "output_type": "stream",
          "text": [
            "True\n"
          ]
        }
      ],
      "source": [
        "a = 5\n",
        "res = a in lista\n",
        "print(res)  # notemos que devuelve un dato booleano\n"
      ]
    },
    {
      "cell_type": "markdown",
      "metadata": {
        "id": "BkB4-2NlvNEW"
      },
      "source": [
        "### Operador not in\n"
      ]
    },
    {
      "cell_type": "code",
      "execution_count": 34,
      "metadata": {
        "colab": {
          "base_uri": "https://localhost:8080/"
        },
        "id": "88kzzAEtvNEX",
        "outputId": "346910e1-9022-4f76-82dc-7f41ce975655"
      },
      "outputs": [
        {
          "name": "stdout",
          "output_type": "stream",
          "text": [
            "False\n"
          ]
        }
      ],
      "source": [
        "lista = [1, 3, 5]\n",
        "print(1 not in lista)\n"
      ]
    },
    {
      "cell_type": "markdown",
      "metadata": {
        "id": "0HPVYbBevNEc"
      },
      "source": [
        "### Seguimos con Tipo lista (de strings, de datos numéricos)\n",
        "\n",
        "- Concatenación de Listas: +\n",
        "- Append\n",
        "- Acceso a un elemento particular de la lista (por la posición que se indica entre corchetes\n",
        "- Primer elemento de una lista: posición 0\n",
        "- Diferencia entre Lista y Vector: la lista puede contener elementos de distinto tipo!\n"
      ]
    },
    {
      "cell_type": "code",
      "execution_count": 35,
      "metadata": {
        "colab": {
          "base_uri": "https://localhost:8080/"
        },
        "id": "ci-PZWTYvNEd",
        "outputId": "96ec3ae4-155a-4297-ec36-30c07fe1058c"
      },
      "outputs": [
        {
          "name": "stdout",
          "output_type": "stream",
          "text": [
            "7\n"
          ]
        }
      ],
      "source": [
        "xs = [\n",
        "    3,\n",
        "    1,\n",
        "    7,\n",
        "]  # Crea una lista. Los elementos se colocan entre corchetes, separados por coma.\n",
        "print(\n",
        "    xs[-1]\n",
        ")  # Indice negativo: implica que se cuenta desde el final de la lista; muestra \"7\"\n"
      ]
    },
    {
      "cell_type": "code",
      "execution_count": 36,
      "metadata": {
        "colab": {
          "base_uri": "https://localhost:8080/"
        },
        "id": "FZFSGo6vLeQq",
        "outputId": "e464647c-d36d-45de-c0d9-3e074c029a1b"
      },
      "outputs": [
        {
          "name": "stdout",
          "output_type": "stream",
          "text": [
            "[3, 1, 'foo']\n"
          ]
        }
      ],
      "source": [
        "xs[\n",
        "    2\n",
        "] = \"foo\"  # Cambia el elemento final. Ahora la lista contiene elementos de distinto tipo\n",
        "print(xs)  # Muestra \"[3, 1, 'foo']\"\n"
      ]
    },
    {
      "cell_type": "code",
      "execution_count": 37,
      "metadata": {
        "colab": {
          "base_uri": "https://localhost:8080/"
        },
        "id": "jfICLAWHLl9S",
        "outputId": "a2873b27-c908-425e-f40b-d37485b6e4f8"
      },
      "outputs": [
        {
          "name": "stdout",
          "output_type": "stream",
          "text": [
            "[3, 1, 'foo', 'bar']\n"
          ]
        }
      ],
      "source": [
        "xs.append(\"bar\")  # Agrego un nuevo elemento al final\n",
        "print(\n",
        "    xs\n",
        ")  # Muestra \"[3, 1, 'foo', 'bar']\" cuando se ejecuta una vez, probar que pasa si se ejecuta varias veces\n"
      ]
    },
    {
      "cell_type": "code",
      "execution_count": 38,
      "metadata": {
        "colab": {
          "base_uri": "https://localhost:8080/"
        },
        "id": "cI3saWvyMIBW",
        "outputId": "9f9fafcc-05ad-4745-82b8-6fe4aab29757"
      },
      "outputs": [
        {
          "name": "stdout",
          "output_type": "stream",
          "text": [
            "bar [3, 1, 'foo']\n"
          ]
        }
      ],
      "source": [
        "x = xs.pop()  # Quito el último elemento de la lista y lo guardo en x\n",
        "print(\n",
        "    x, xs\n",
        ")  # Muestro el elemento que quitamos y la lista que quedó: \"bar [3, 1, 'foo']\"\n"
      ]
    },
    {
      "cell_type": "code",
      "execution_count": 39,
      "metadata": {
        "colab": {
          "base_uri": "https://localhost:8080/"
        },
        "id": "RKDaXj6nvNEi",
        "outputId": "55bf4e6c-3517-43fb-b05e-d82e2294530b"
      },
      "outputs": [
        {
          "name": "stdout",
          "output_type": "stream",
          "text": [
            "lista1= ['hola', 'que', 'tal', 'Juan']\n",
            "<class 'list'>\n",
            "<class 'str'>\n",
            "tal\n",
            "Juan\n",
            "4\n",
            "lista2= [25.0, 75, 0, 8.0, 20.0]\n",
            "<class 'list'>\n",
            "<class 'float'>\n",
            "75\n",
            "0\n",
            "5\n",
            "['Juan', 'hola', 'que', 'tal']\n"
          ]
        }
      ],
      "source": [
        "# Ejemplos\n",
        "lista1 = [\"hola\", \"que\", \"tal\", \"Juan\"]\n",
        "print(\"lista1=\", lista1)\n",
        "print(type(lista1))  # muestra el tipo lista\n",
        "print(type(lista1[0]))  # muestra el tipo del elemento 0 (el primero)\n",
        "print(max(lista1))  # Para strings tiene en cuenta el código ASCII.\n",
        "# En el código ASCII las mayúsculas preceden a las minúsculas\n",
        "print(min(lista1))\n",
        "print(len(lista1))\n",
        "\n",
        "lista2 = [25.0, 75, 0, 8.0, 20.0]\n",
        "print(\"lista2=\", lista2)\n",
        "print(type(lista2))\n",
        "print(type(lista2[0]))\n",
        "print(max(lista2))\n",
        "print(min(lista2))\n",
        "print(len(lista2))\n",
        "lista1.sort()\n",
        "print(lista1)\n"
      ]
    },
    {
      "cell_type": "code",
      "execution_count": 40,
      "metadata": {
        "colab": {
          "base_uri": "https://localhost:8080/"
        },
        "id": "cfcgNIrSM9uh",
        "outputId": "3f65bedd-d04e-41e0-c45e-ef67a2a398a0"
      },
      "outputs": [
        {
          "name": "stdout",
          "output_type": "stream",
          "text": [
            "['Juan', 'hola', 'que', 'tal', 25.0, 75, 0, 8.0, 20.0]\n",
            "<class 'list'>\n",
            "<class 'str'>\n",
            "[25.0, 75, 0, 8.0, 20.0, 25.0, 75, 0, 8.0, 20.0]\n",
            "[25.0, 75, 0, 8.0, 20.0, 25.0, 75, 0, 8.0, 20.0]\n"
          ]
        }
      ],
      "source": [
        "concatenada = lista1 + lista2  # El signo + concatena listas, no es suma en este caso\n",
        "print(concatenada)\n",
        "print(type(concatenada))\n",
        "print(type(concatenada[0]))\n",
        "# No puede dar el máximo ni el mínimo porque los elementos son de distinto tipo: str y float\n",
        "\n",
        "print(lista2 + lista2)\n",
        "lista2.extend(lista2)  # Otro método de concatenación\n",
        "print(lista2)\n",
        "\n",
        "# print(lista2+2)#Esta operación daría error- Esta operación no es soportada por una lista\n",
        "# para trabajar con vectores debemos utilizar la librería numpy\n"
      ]
    },
    {
      "cell_type": "markdown",
      "metadata": {
        "id": "xAfnVpiuvNEm"
      },
      "source": [
        "# 2. Funciones Definidas por el Usuario\n"
      ]
    },
    {
      "cell_type": "markdown",
      "metadata": {
        "id": "FummoTjBvNEn"
      },
      "source": [
        "_Las funciones se definen con la palabra clave def_\n",
        "\n",
        "**Sintaxis**\n",
        "\n",
        "def nombre_funcion(parametros):\n",
        "\n",
        "    Cuerpo de la función\n",
        "\n",
        "    return\n"
      ]
    },
    {
      "cell_type": "markdown",
      "metadata": {
        "id": "dw704ef4vNEo"
      },
      "source": [
        "**Ejemplo de una función**\n"
      ]
    },
    {
      "cell_type": "code",
      "execution_count": 41,
      "metadata": {
        "id": "NVXdyo_bvNEp"
      },
      "outputs": [],
      "source": [
        "def sumar(a, b):\n",
        "    return a + b\n",
        "\n",
        "\n",
        "# hay que ejecutar la celda para que la función quede en memoria\n"
      ]
    },
    {
      "cell_type": "markdown",
      "metadata": {
        "id": "8YjYwhQJvNEt"
      },
      "source": [
        "**Llamada a la función**\n"
      ]
    },
    {
      "cell_type": "code",
      "execution_count": 42,
      "metadata": {
        "colab": {
          "base_uri": "https://localhost:8080/"
        },
        "id": "esWuUD_HvNEu",
        "outputId": "e1d3acc6-773f-4be4-9a68-4d9eda2e719f"
      },
      "outputs": [
        {
          "name": "stdout",
          "output_type": "stream",
          "text": [
            "La suma es\n",
            "7\n"
          ]
        }
      ],
      "source": [
        "c = sumar(2, 5)\n",
        "print(\"La suma es\")\n",
        "print(c)\n"
      ]
    },
    {
      "cell_type": "markdown",
      "metadata": {
        "id": "pBCS7bATvNE5"
      },
      "source": [
        "**Llamada a la función**\n"
      ]
    },
    {
      "cell_type": "markdown",
      "metadata": {
        "id": "O-OgpPIjvNE_"
      },
      "source": [
        "**Ejercicio 6:**\n",
        "\n",
        "- defina una función sencilla con dos parámetros\n",
        "- impleméntela en dos valores concretos\n"
      ]
    },
    {
      "cell_type": "code",
      "execution_count": 43,
      "metadata": {
        "colab": {
          "base_uri": "https://localhost:8080/"
        },
        "id": "Jzn_eikhvNFA",
        "outputId": "07ace743-3425-4cff-b968-f5f998a2c78f"
      },
      "outputs": [
        {
          "data": {
            "text/plain": [
              "4"
            ]
          },
          "execution_count": 43,
          "metadata": {},
          "output_type": "execute_result"
        }
      ],
      "source": [
        "def multiplicar(a, b):\n",
        "    return a * b\n",
        "\n",
        "\n",
        "multiplicar(2, 2)\n"
      ]
    },
    {
      "cell_type": "markdown",
      "metadata": {
        "id": "WEU5e7pMdhOR"
      },
      "source": [
        "Crear una función que compara si 2 listas \"numéricas\" tienen los mismos elementos.\n"
      ]
    },
    {
      "cell_type": "code",
      "execution_count": 44,
      "metadata": {
        "colab": {
          "base_uri": "https://localhost:8080/"
        },
        "id": "lwv4Z94AduWM",
        "outputId": "6afd2b8f-86ae-43a0-8511-f31e7172f2d3"
      },
      "outputs": [
        {
          "data": {
            "text/plain": [
              "False"
            ]
          },
          "execution_count": 44,
          "metadata": {},
          "output_type": "execute_result"
        }
      ],
      "source": [
        "def comparar(a, b):\n",
        "    return a == b\n",
        "\n",
        "\n",
        "list1 = [1, 2, 3]\n",
        "list2 = [1, 2, 33]\n",
        "comparar(list1, list2)\n"
      ]
    }
  ],
  "metadata": {
    "colab": {
      "collapsed_sections": [
        "FaxhuEmfvNCp",
        "XQcbplmv7fuv",
        "hfoPugQVvNDm",
        "GMxpoORGvNEO"
      ],
      "name": "Ntb1_Python_2021.ipynb",
      "provenance": []
    },
    "kernelspec": {
      "display_name": "Python 3",
      "language": "python",
      "name": "python3"
    },
    "language_info": {
      "codemirror_mode": {
        "name": "ipython",
        "version": 3
      },
      "file_extension": ".py",
      "mimetype": "text/x-python",
      "name": "python",
      "nbconvert_exporter": "python",
      "pygments_lexer": "ipython3",
      "version": "3.8.3"
    }
  },
  "nbformat": 4,
  "nbformat_minor": 0
}
